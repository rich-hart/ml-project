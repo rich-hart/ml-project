{
 "cells": [
  {
   "cell_type": "code",
   "execution_count": 1,
   "metadata": {},
   "outputs": [],
   "source": [
    "import bayespy\n",
    "import gym\n",
    "from algorithms import Algorithm\n",
    "from datetime import datetime"
   ]
  },
  {
   "cell_type": "code",
   "execution_count": 2,
   "metadata": {},
   "outputs": [],
   "source": [
    "env = gym.make('CartPole-v1')"
   ]
  },
  {
   "cell_type": "code",
   "execution_count": 3,
   "metadata": {},
   "outputs": [
    {
     "data": {
      "text/plain": [
       "Discrete(2)"
      ]
     },
     "execution_count": 3,
     "metadata": {},
     "output_type": "execute_result"
    }
   ],
   "source": [
    "env.action_space"
   ]
  },
  {
   "cell_type": "code",
   "execution_count": 4,
   "metadata": {},
   "outputs": [
    {
     "name": "stdout",
     "output_type": "stream",
     "text": [
      "Help on Discrete in module gym.spaces.discrete object:\n",
      "\n",
      "class Discrete(gym.spaces.space.Space)\n",
      " |  Discrete(n)\n",
      " |  \n",
      " |  A discrete space in :math:`\\{ 0, 1, \\\\dots, n-1 \\}`. \n",
      " |  \n",
      " |  Example::\n",
      " |  \n",
      " |      >>> Discrete(2)\n",
      " |  \n",
      " |  Method resolution order:\n",
      " |      Discrete\n",
      " |      gym.spaces.space.Space\n",
      " |      builtins.object\n",
      " |  \n",
      " |  Methods defined here:\n",
      " |  \n",
      " |  __eq__(self, other)\n",
      " |      Return self==value.\n",
      " |  \n",
      " |  __init__(self, n)\n",
      " |      Initialize self.  See help(type(self)) for accurate signature.\n",
      " |  \n",
      " |  __repr__(self)\n",
      " |      Return repr(self).\n",
      " |  \n",
      " |  contains(self, x)\n",
      " |      Return boolean specifying if x is a valid\n",
      " |      member of this space\n",
      " |  \n",
      " |  sample(self)\n",
      " |      Randomly sample an element of this space. Can be \n",
      " |      uniform or non-uniform sampling based on boundedness of space.\n",
      " |  \n",
      " |  ----------------------------------------------------------------------\n",
      " |  Data and other attributes defined here:\n",
      " |  \n",
      " |  __hash__ = None\n",
      " |  \n",
      " |  ----------------------------------------------------------------------\n",
      " |  Methods inherited from gym.spaces.space.Space:\n",
      " |  \n",
      " |  __contains__(self, x)\n",
      " |  \n",
      " |  from_jsonable(self, sample_n)\n",
      " |      Convert a JSONable data type to a batch of samples from this space.\n",
      " |  \n",
      " |  seed(self, seed=None)\n",
      " |      Seed the PRNG of this space.\n",
      " |  \n",
      " |  to_jsonable(self, sample_n)\n",
      " |      Convert a batch of samples from this space to a JSONable data type.\n",
      " |  \n",
      " |  ----------------------------------------------------------------------\n",
      " |  Data descriptors inherited from gym.spaces.space.Space:\n",
      " |  \n",
      " |  __dict__\n",
      " |      dictionary for instance variables (if defined)\n",
      " |  \n",
      " |  __weakref__\n",
      " |      list of weak references to the object (if defined)\n",
      "\n"
     ]
    }
   ],
   "source": [
    "help(env.action_space)"
   ]
  },
  {
   "cell_type": "code",
   "execution_count": 5,
   "metadata": {},
   "outputs": [
    {
     "data": {
      "text/plain": [
       "2"
      ]
     },
     "execution_count": 5,
     "metadata": {},
     "output_type": "execute_result"
    }
   ],
   "source": [
    "env.action_space.n"
   ]
  },
  {
   "cell_type": "code",
   "execution_count": 6,
   "metadata": {},
   "outputs": [
    {
     "data": {
      "text/plain": [
       "Box(4,)"
      ]
     },
     "execution_count": 6,
     "metadata": {},
     "output_type": "execute_result"
    }
   ],
   "source": [
    "env.observation_space"
   ]
  },
  {
   "cell_type": "code",
   "execution_count": 7,
   "metadata": {},
   "outputs": [
    {
     "name": "stdout",
     "output_type": "stream",
     "text": [
      "Help on Box in module gym.spaces.box object:\n",
      "\n",
      "class Box(gym.spaces.space.Space)\n",
      " |  Box(low, high, shape=None, dtype=<class 'numpy.float32'>)\n",
      " |  \n",
      " |  A (possibly unbounded) box in R^n. Specifically, a Box represents the\n",
      " |  Cartesian product of n closed intervals. Each interval has the form of one\n",
      " |  of [a, b], (-oo, b], [a, oo), or (-oo, oo).\n",
      " |  \n",
      " |  There are two common use cases:\n",
      " |  \n",
      " |  * Identical bound for each dimension::\n",
      " |      >>> Box(low=-1.0, high=2.0, shape=(3, 4), dtype=np.float32)\n",
      " |      Box(3, 4)\n",
      " |      \n",
      " |  * Independent bound for each dimension::\n",
      " |      >>> Box(low=np.array([-1.0, -2.0]), high=np.array([2.0, 4.0]), dtype=np.float32)\n",
      " |      Box(2,)\n",
      " |  \n",
      " |  Method resolution order:\n",
      " |      Box\n",
      " |      gym.spaces.space.Space\n",
      " |      builtins.object\n",
      " |  \n",
      " |  Methods defined here:\n",
      " |  \n",
      " |  __eq__(self, other)\n",
      " |      Return self==value.\n",
      " |  \n",
      " |  __init__(self, low, high, shape=None, dtype=<class 'numpy.float32'>)\n",
      " |      Initialize self.  See help(type(self)) for accurate signature.\n",
      " |  \n",
      " |  __repr__(self)\n",
      " |      Return repr(self).\n",
      " |  \n",
      " |  contains(self, x)\n",
      " |      Return boolean specifying if x is a valid\n",
      " |      member of this space\n",
      " |  \n",
      " |  from_jsonable(self, sample_n)\n",
      " |      Convert a JSONable data type to a batch of samples from this space.\n",
      " |  \n",
      " |  is_bounded(self, manner='both')\n",
      " |  \n",
      " |  sample(self)\n",
      " |      Generates a single random sample inside of the Box. \n",
      " |      \n",
      " |      In creating a sample of the box, each coordinate is sampled according to\n",
      " |      the form of the interval:\n",
      " |      \n",
      " |      * [a, b] : uniform distribution \n",
      " |      * [a, oo) : shifted exponential distribution\n",
      " |      * (-oo, b] : shifted negative exponential distribution\n",
      " |      * (-oo, oo) : normal distribution\n",
      " |  \n",
      " |  to_jsonable(self, sample_n)\n",
      " |      Convert a batch of samples from this space to a JSONable data type.\n",
      " |  \n",
      " |  ----------------------------------------------------------------------\n",
      " |  Data and other attributes defined here:\n",
      " |  \n",
      " |  __hash__ = None\n",
      " |  \n",
      " |  ----------------------------------------------------------------------\n",
      " |  Methods inherited from gym.spaces.space.Space:\n",
      " |  \n",
      " |  __contains__(self, x)\n",
      " |  \n",
      " |  seed(self, seed=None)\n",
      " |      Seed the PRNG of this space.\n",
      " |  \n",
      " |  ----------------------------------------------------------------------\n",
      " |  Data descriptors inherited from gym.spaces.space.Space:\n",
      " |  \n",
      " |  __dict__\n",
      " |      dictionary for instance variables (if defined)\n",
      " |  \n",
      " |  __weakref__\n",
      " |      list of weak references to the object (if defined)\n",
      "\n"
     ]
    }
   ],
   "source": [
    "help(env.observation_space)"
   ]
  },
  {
   "cell_type": "code",
   "execution_count": 23,
   "metadata": {},
   "outputs": [
    {
     "data": {
      "text/plain": [
       "(4,)"
      ]
     },
     "execution_count": 23,
     "metadata": {},
     "output_type": "execute_result"
    }
   ],
   "source": [
    "env.observation_space.shape"
   ]
  },
  {
   "cell_type": "code",
   "execution_count": 24,
   "metadata": {},
   "outputs": [
    {
     "data": {
      "text/plain": [
       "array([4.8000002e+00, 3.4028235e+38, 4.1887903e-01, 3.4028235e+38],\n",
       "      dtype=float32)"
      ]
     },
     "execution_count": 24,
     "metadata": {},
     "output_type": "execute_result"
    }
   ],
   "source": [
    "env.observation_space.high"
   ]
  },
  {
   "cell_type": "code",
   "execution_count": 25,
   "metadata": {},
   "outputs": [
    {
     "data": {
      "text/plain": [
       "array([-4.8000002e+00, -3.4028235e+38, -4.1887903e-01, -3.4028235e+38],\n",
       "      dtype=float32)"
      ]
     },
     "execution_count": 25,
     "metadata": {},
     "output_type": "execute_result"
    }
   ],
   "source": [
    "env.observation_space.low"
   ]
  },
  {
   "cell_type": "code",
   "execution_count": 26,
   "metadata": {},
   "outputs": [
    {
     "data": {
      "text/plain": [
       "1"
      ]
     },
     "execution_count": 26,
     "metadata": {},
     "output_type": "execute_result"
    }
   ],
   "source": [
    "len(env.observation_space.shape)"
   ]
  },
  {
   "cell_type": "code",
   "execution_count": 34,
   "metadata": {},
   "outputs": [],
   "source": [
    "observation_space_dimention = len(env.observation_space.shape)"
   ]
  },
  {
   "cell_type": "code",
   "execution_count": 35,
   "metadata": {},
   "outputs": [
    {
     "ename": "ImportError",
     "evalue": "cannot import name 'MaximizeCausalForce' from 'algorithms.causal_entropic_forces' (/home/jovyan/work/src/algorithms/causal_entropic_forces.py)",
     "output_type": "error",
     "traceback": [
      "\u001b[0;31m---------------------------------------------------------------------------\u001b[0m",
      "\u001b[0;31mImportError\u001b[0m                               Traceback (most recent call last)",
      "\u001b[0;32m<ipython-input-35-755792e2a162>\u001b[0m in \u001b[0;36m<module>\u001b[0;34m\u001b[0m\n\u001b[0;32m----> 1\u001b[0;31m \u001b[0;32mfrom\u001b[0m \u001b[0magents\u001b[0m \u001b[0;32mimport\u001b[0m \u001b[0mAgent\u001b[0m\u001b[0;34m,\u001b[0m \u001b[0mPolicy\u001b[0m\u001b[0;34m,\u001b[0m \u001b[0mRandomPolicy\u001b[0m\u001b[0;34m,\u001b[0m \u001b[0mRandomAgent\u001b[0m\u001b[0;34m,\u001b[0m \u001b[0mEngineer\u001b[0m\u001b[0;34m,\u001b[0m \u001b[0mScientist\u001b[0m\u001b[0;34m\u001b[0m\u001b[0;34m\u001b[0m\u001b[0m\n\u001b[0m\u001b[1;32m      2\u001b[0m \u001b[0;34m\u001b[0m\u001b[0m\n\u001b[1;32m      3\u001b[0m \u001b[0;34m\u001b[0m\u001b[0m\n\u001b[1;32m      4\u001b[0m \u001b[0;34m\u001b[0m\u001b[0m\n\u001b[1;32m      5\u001b[0m \u001b[0;34m\u001b[0m\u001b[0m\n",
      "\u001b[0;32m~/work/src/agents/__init__.py\u001b[0m in \u001b[0;36m<module>\u001b[0;34m\u001b[0m\n\u001b[0;32m----> 1\u001b[0;31m \u001b[0;32mfrom\u001b[0m \u001b[0malgorithms\u001b[0m\u001b[0;34m.\u001b[0m\u001b[0mcausal_entropic_forces\u001b[0m \u001b[0;32mimport\u001b[0m \u001b[0mMaximizeCausalForce\u001b[0m\u001b[0;34m,\u001b[0m \u001b[0mCausalEntropicForce\u001b[0m\u001b[0;34m,\u001b[0m \u001b[0mMacrostate\u001b[0m\u001b[0;34m\u001b[0m\u001b[0;34m\u001b[0m\u001b[0m\n\u001b[0m\u001b[1;32m      2\u001b[0m \u001b[0;34m\u001b[0m\u001b[0m\n\u001b[1;32m      3\u001b[0m \u001b[0;32mclass\u001b[0m \u001b[0mBrain\u001b[0m\u001b[0;34m:\u001b[0m\u001b[0;34m\u001b[0m\u001b[0;34m\u001b[0m\u001b[0m\n\u001b[1;32m      4\u001b[0m     \u001b[0;32mpass\u001b[0m\u001b[0;34m\u001b[0m\u001b[0;34m\u001b[0m\u001b[0m\n\u001b[1;32m      5\u001b[0m \u001b[0;34m\u001b[0m\u001b[0m\n",
      "\u001b[0;31mImportError\u001b[0m: cannot import name 'MaximizeCausalForce' from 'algorithms.causal_entropic_forces' (/home/jovyan/work/src/algorithms/causal_entropic_forces.py)"
     ]
    }
   ],
   "source": [
    "from agents import Agent, Policy, RandomPolicy, RandomAgent, Engineer, Scientist\n",
    "\n",
    "\n",
    "\n",
    "    \n",
    "\n"
   ]
  },
  {
   "cell_type": "code",
   "execution_count": 29,
   "metadata": {},
   "outputs": [
    {
     "ename": "NameError",
     "evalue": "name 'RandomAgent' is not defined",
     "output_type": "error",
     "traceback": [
      "\u001b[0;31m---------------------------------------------------------------------------\u001b[0m",
      "\u001b[0;31mNameError\u001b[0m                                 Traceback (most recent call last)",
      "\u001b[0;32m<ipython-input-29-f53f037e099f>\u001b[0m in \u001b[0;36m<module>\u001b[0;34m\u001b[0m\n\u001b[0;32m----> 1\u001b[0;31m \u001b[0mrandom_agent\u001b[0m \u001b[0;34m=\u001b[0m \u001b[0mRandomAgent\u001b[0m\u001b[0;34m(\u001b[0m\u001b[0menv\u001b[0m\u001b[0;34m=\u001b[0m\u001b[0menv\u001b[0m\u001b[0;34m)\u001b[0m\u001b[0;34m\u001b[0m\u001b[0;34m\u001b[0m\u001b[0m\n\u001b[0m",
      "\u001b[0;31mNameError\u001b[0m: name 'RandomAgent' is not defined"
     ]
    }
   ],
   "source": [
    "random_agent = RandomAgent(env=env)"
   ]
  },
  {
   "cell_type": "code",
   "execution_count": null,
   "metadata": {},
   "outputs": [],
   "source": [
    "random_agent"
   ]
  },
  {
   "cell_type": "code",
   "execution_count": null,
   "metadata": {},
   "outputs": [],
   "source": [
    "random_action = random_agent.policy(env.observation_space.sample())"
   ]
  },
  {
   "cell_type": "code",
   "execution_count": null,
   "metadata": {},
   "outputs": [],
   "source": [
    "random_action"
   ]
  },
  {
   "cell_type": "code",
   "execution_count": null,
   "metadata": {},
   "outputs": [],
   "source": [
    "\n",
    "\n",
    "class Database:\n",
    "    pass\n",
    "\n",
    "# Make context manager\n",
    "class Experiment:\n",
    "    description = None\n",
    "    procedure = None\n",
    "    database = None\n",
    "    start = None\n",
    "    stop = None\n",
    "    \n",
    "    _data = None\n",
    "\n",
    "    def __init__(self,desciption, procedure, database, *args,**kwargs):\n",
    "        self.desciption = desciption\n",
    "        self.procedure = procedure\n",
    "        self.database = database\n",
    "        \n",
    "        \n",
    "    def begin(self):\n",
    "        self.start = datetime.now()\n",
    "    \n",
    "    def end(self):\n",
    "        self.stop = datetime.now()\n",
    "\n",
    "class Trial:\n",
    "    pass\n",
    "\n",
    "\n",
    "\n",
    "class Procedure(Algorithm):\n",
    "    name = None\n",
    "    def __init__(self,*args,**kwargs):\n",
    "        pass\n",
    "\n",
    "class Conclusion:\n",
    "    pass\n",
    "\n",
    "class Hypothesis:\n",
    "    pass"
   ]
  },
  {
   "cell_type": "code",
   "execution_count": null,
   "metadata": {},
   "outputs": [],
   "source": [
    "class Variable:\n",
    "    pass\n",
    "\n",
    "class RandomVariable:\n",
    "    pass\n",
    "\n",
    "\n",
    "\n",
    "class Network:\n",
    "    pass\n",
    "\n",
    "class BayesNetwork(Network):\n",
    "    pass\n",
    "\n",
    "class Knowledge(BayesNetwork):\n",
    "    pass\n",
    "\n",
    "\n",
    "\n",
    "#Procedures\n",
    "#class Material:\n",
    "#    pass\n",
    "#\n",
    "#class Tool:\n",
    "#    pass\n",
    "\n",
    "\n"
   ]
  },
  {
   "cell_type": "code",
   "execution_count": null,
   "metadata": {},
   "outputs": [],
   "source": []
  },
  {
   "cell_type": "code",
   "execution_count": null,
   "metadata": {},
   "outputs": [],
   "source": [
    "#Experiment agent=Random, env = 'CartPole-v1', trials = 10, desciption=\"question: what effect does a random agent have on the CartPole-v1 enviroment?\""
   ]
  },
  {
   "cell_type": "code",
   "execution_count": null,
   "metadata": {},
   "outputs": [],
   "source": [
    "# state_0 --> action_0 or action_1  --> state_1 -->> action_0 or action_1 --> ... --> state_n # or state_N"
   ]
  },
  {
   "cell_type": "code",
   "execution_count": null,
   "metadata": {},
   "outputs": [],
   "source": [
    "scientist = Scientist('scientist')"
   ]
  },
  {
   "cell_type": "code",
   "execution_count": null,
   "metadata": {},
   "outputs": [],
   "source": []
  },
  {
   "cell_type": "code",
   "execution_count": null,
   "metadata": {},
   "outputs": [],
   "source": [
    "class Node:\n",
    "    pass\n",
    "\n",
    "class Edge:\n",
    "    pass\n",
    "\n",
    "class Vertex(Node):\n",
    "    pass\n",
    "class Serializer: #SEE Django, Django RestFramework, neo4j\n",
    "    pass"
   ]
  },
  {
   "cell_type": "code",
   "execution_count": null,
   "metadata": {},
   "outputs": [],
   "source": [
    "#NOTE:An algorithm is a procedure for solving a problem in terms of the actions to be executed and the order in which those actions are to be executed. An algorithm is merely the sequence of steps taken to solve a problem. The steps are normally \"sequence,\" \"selection, \" \"iteration,\" and a case-type statement.\n",
    "\n",
    "\n",
    "#NOTE: In C, \"sequence statements\" are imperatives. The \"selection\" is the \"if then else\" statement, and the iteration is satisfied by a number of statements, such as the \"while,\" \" do,\" and the \"for,\" while the case-type statement is satisfied by the \"switch\" statement."
   ]
  },
  {
   "cell_type": "code",
   "execution_count": null,
   "metadata": {},
   "outputs": [],
   "source": [
    "####\n",
    "####\n",
    "# NOTE: Example Experment (Temp class definitions until I think of better ones).\n",
    "####\n",
    "####"
   ]
  },
  {
   "cell_type": "code",
   "execution_count": null,
   "metadata": {},
   "outputs": [],
   "source": [
    "import pandas as pd\n",
    "\n",
    "class ExampleScientist(Scientist):\n",
    "    def execute(self, procedure, database, env, subject, *args,**kwargs):\n",
    "        procedure.run(env=env,subject=subject,scientist=self,database=database, *args, **kwargs)\n",
    "    \n",
    "    def record(self, data, database,*tables):\n",
    "        database.insert(data,*tables)\n",
    "    \n",
    "    def analyze(self, experiment):\n",
    "        #import ipdb; ipdb.set_trace()\n",
    "        conn = experiment.database.conn\n",
    "        c = conn.cursor()\n",
    "    \n",
    "        c.execute(\"select * from observations\")\n",
    "        observations = c.fetchall()\n",
    "        \n",
    "        for obs in observations:\n",
    "            trial, x, x_dot, phi, phi_dot, n = obs\n",
    "            \n",
    "        c.execute(\"select * from actions\")\n",
    "        actions = c.fetchall()\n",
    "\n",
    "        c.execute(\"select * from trials\")\n",
    "        trials = c.fetchall()\n",
    "        \n",
    "        conn.close()\n",
    "        \n",
    "class ExampleProcedure(Procedure):\n",
    "    def __init__(self, name, trials=10, steps=1000,*args,**kwargs):\n",
    "        self.name = name\n",
    "        self.trials = trials\n",
    "        self.steps = steps\n",
    "\n",
    "    \n",
    "    def run(self, env, subject, scientist, database, *args,**kwargs):\n",
    "\n",
    "        \n",
    "        for trial in range(1,self.trials+1):\n",
    "            \n",
    "            #data['trial'] = trial\n",
    "            obs = env.reset()\n",
    "            data = {\n",
    "                'trial': trial,\n",
    "                'obs': obs,\n",
    "                'action': -1, #reset\n",
    "                'agent': scientist.name,\n",
    "                'step': -1,\n",
    "                'rew': None,\n",
    "                'done': None,\n",
    "                'info': None,\n",
    "            }\n",
    "            \n",
    "            #data['agent'] = scientist.name\n",
    "            #data['action'] = 'reset'\n",
    "            #data['obs'] = obs\n",
    "            \n",
    "            scientist.record(data,database,'trials','observations','actions')\n",
    "            for step in range(self.steps):\n",
    "                action = subject.policy(obs)\n",
    "                obs, rew, done, info = env.step(action)\n",
    "                data['obs'] = obs\n",
    "                data['agent'] = subject.name\n",
    "                data['action'] = action\n",
    "                data['step'] = step\n",
    "                data['rew'] = rew\n",
    "                data['done'] = done\n",
    "                data['info'] = info\n",
    "                scientist.record(data,database,'observations','actions')\n",
    "                if done:\n",
    "                    break\n",
    "        env.close()\n",
    "        \n",
    "#import gym\n",
    "#env = gym.make('CartPole-v0')\n",
    "#env.reset()\n",
    "#for _ in range(1000):\n",
    "#    env.render()\n",
    "#    env.step(env.action_space.sample()) # take a random action\n",
    "#env.close()\n",
    "class ExampleExperiment(Experiment):\n",
    "    pass"
   ]
  },
  {
   "cell_type": "code",
   "execution_count": null,
   "metadata": {},
   "outputs": [],
   "source": [
    "import sqlite3\n",
    "class ExampleDatabase(Database):\n",
    "    db_filename = None\n",
    "    _conn = None\n",
    "    def __init__(self, db_filename):\n",
    "        self.db_filename = db_filename\n",
    "        conn = sqlite3.connect(db_filename)\n",
    "        c = conn.cursor()\n",
    "        # trial has many observations\n",
    "        # trial has many actions\n",
    "        c.execute('''CREATE TABLE trials (number integer)''')\n",
    "        c.execute('''CREATE TABLE observations (trial_id integer, cart_position real, cart_velocity real, pole_angle real, pole_velocity_at_tip real, step integer, FOREIGN KEY (trial_id) REFERENCES trials(number))''')\n",
    "        c.execute('''CREATE TABLE actions (trial_id integer, agent text,action integer, step integer, FOREIGN KEY (trial_id) REFERENCES trials(number))''')\n",
    "        # create tables for other data....\n",
    "        conn.close()\n",
    "        \n",
    "    def insert(self,data, *tables):\n",
    "        conn = sqlite3.connect(self.db_filename)\n",
    "        c = conn.cursor()\n",
    "        \n",
    "        if 'trials' in tables:\n",
    "            command = \"INSERT INTO trials VALUES (?)\"\n",
    "            values = (data['trial'],)\n",
    "            c.execute(command, values)\n",
    "            \n",
    "        if 'observations' in tables:\n",
    "            command = \"INSERT INTO observations VALUES (?, ?, ?, ?, ?, ?)\"\n",
    "            values = (\n",
    "                data['trial'],\n",
    "                data['obs'][0],\n",
    "                data['obs'][1],\n",
    "                data['obs'][2],\n",
    "                data['obs'][3],\n",
    "                data['step'],\n",
    "            )\n",
    "            c.execute(command, values)\n",
    "            \n",
    "        if 'actions' in tables:\n",
    "            command = \"INSERT INTO actions VALUES (?, ?, ?, ?)\"\n",
    "            values = (data['trial'], data['agent'], data['action'],data['step'])\n",
    "            c.execute(command,values)\n",
    "        conn.commit()\n",
    "        conn.close()\n",
    "\n",
    "    @property\n",
    "    def conn(self):\n",
    "        if not self._conn:\n",
    "            self._conn = sqlite3.connect(self.db_filename)\n",
    "        return self._conn\n",
    "    "
   ]
  },
  {
   "cell_type": "code",
   "execution_count": null,
   "metadata": {},
   "outputs": [],
   "source": [
    "env.close()"
   ]
  },
  {
   "cell_type": "code",
   "execution_count": null,
   "metadata": {},
   "outputs": [],
   "source": []
  },
  {
   "cell_type": "code",
   "execution_count": null,
   "metadata": {
    "scrolled": true
   },
   "outputs": [],
   "source": [
    "database = ExampleDatabase('example.db')"
   ]
  },
  {
   "cell_type": "code",
   "execution_count": null,
   "metadata": {},
   "outputs": [],
   "source": [
    "procedure = ExampleProcedure('example')\n",
    "desciption = \"question: what effect does a random agent have on the CartPole-v1 enviroment?\" \\\n",
    "\"We what to show that given env and random agent, 1) observation does not imply random agent action \" \\\n",
    "\"2) random agent action implies observation\"\n",
    "experiment = ExampleExperiment(desciption=desciption,procedure=procedure,database=database)\n",
    "env = gym.make('CartPole-v1')\n",
    "random_agent = RandomAgent(env=env, name='random_agent')\n",
    "scientist = ExampleScientist('scientist')"
   ]
  },
  {
   "cell_type": "code",
   "execution_count": null,
   "metadata": {
    "scrolled": false
   },
   "outputs": [],
   "source": [
    "scientist.conduct(experiment,env,random_agent)"
   ]
  },
  {
   "cell_type": "code",
   "execution_count": null,
   "metadata": {},
   "outputs": [],
   "source": []
  },
  {
   "cell_type": "markdown",
   "metadata": {},
   "source": [
    "$ Trials = \\{i |i \\in \\mathbb{N}\\text{ and } i \\leq 10  \\}$\n",
    "\n",
    "\n",
    "$ AgentActionSpace = \\{0, 1\\}$\n",
    "\n",
    "$ ActionSpace = AgentActionSpace \\cup \\{-1\\}$\n",
    "\n",
    "$ Observations = \\{(trial,x, \\dot{x}, \\phi, \\dot{\\phi},step) | trial \\in Trials, step \\in \\mathbb{N} \\text{ DEFINE  OTHER CONSTRAINTS}\\}$\n",
    "\n",
    "$ Actions = \\{(trial,agent, action, step) |trial \\in Trials, step \\in \\mathbb{N} \\text{ DEFINE OTHER CONSTRAINTS }\\}$\n",
    "\n",
    "$s_{n} \\equiv  $ the state of the system at step n"
   ]
  },
  {
   "cell_type": "markdown",
   "metadata": {},
   "source": [
    "$s_{n}$ is directly related to $x(t)$ "
   ]
  },
  {
   "cell_type": "code",
   "execution_count": null,
   "metadata": {},
   "outputs": [],
   "source": [
    "experiment.database._conn = sqlite3.connect('example.db')\n",
    "scientist.analyze(experiment)"
   ]
  },
  {
   "cell_type": "code",
   "execution_count": null,
   "metadata": {},
   "outputs": [],
   "source": [
    "# FIXME: put this in analyze\n",
    "conn = sqlite3.connect('example.db')\n",
    "c = conn.cursor()\n",
    "    \n",
    "c.execute(\"select * from observations\")\n",
    "observations = c.fetchall()\n",
    "        \n",
    "for obs in observations:\n",
    "    trial, x, x_dot, phi, phi_dot, n = obs\n",
    "            \n",
    "c.execute(\"select * from actions\")\n",
    "actions = c.fetchall()\n",
    "\n",
    "c.execute(\"select * from trials\")\n",
    "trials = c.fetchall()\n",
    "        \n",
    "conn.close()"
   ]
  },
  {
   "cell_type": "code",
   "execution_count": null,
   "metadata": {},
   "outputs": [],
   "source": [
    "actions"
   ]
  },
  {
   "cell_type": "code",
   "execution_count": null,
   "metadata": {},
   "outputs": [],
   "source": [
    "observations"
   ]
  },
  {
   "cell_type": "code",
   "execution_count": null,
   "metadata": {},
   "outputs": [],
   "source": [
    "trials"
   ]
  },
  {
   "cell_type": "code",
   "execution_count": null,
   "metadata": {},
   "outputs": [],
   "source": [
    "a_reset = -1\n",
    "a_0 = 0\n",
    "a_1 = 1"
   ]
  },
  {
   "cell_type": "code",
   "execution_count": null,
   "metadata": {},
   "outputs": [],
   "source": [
    "current_step = -1"
   ]
  },
  {
   "cell_type": "code",
   "execution_count": null,
   "metadata": {},
   "outputs": [],
   "source": []
  },
  {
   "cell_type": "code",
   "execution_count": null,
   "metadata": {},
   "outputs": [],
   "source": [
    "action_space = {-1, 0, 1}"
   ]
  },
  {
   "cell_type": "code",
   "execution_count": null,
   "metadata": {},
   "outputs": [],
   "source": [
    "observations"
   ]
  },
  {
   "cell_type": "code",
   "execution_count": null,
   "metadata": {},
   "outputs": [],
   "source": []
  }
 ],
 "metadata": {
  "kernelspec": {
   "display_name": "Python 3",
   "language": "python",
   "name": "python3"
  },
  "language_info": {
   "codemirror_mode": {
    "name": "ipython",
    "version": 3
   },
   "file_extension": ".py",
   "mimetype": "text/x-python",
   "name": "python",
   "nbconvert_exporter": "python",
   "pygments_lexer": "ipython3",
   "version": "3.7.3"
  }
 },
 "nbformat": 4,
 "nbformat_minor": 2
}
