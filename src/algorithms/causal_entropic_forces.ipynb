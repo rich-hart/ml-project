{
 "cells": [
  {
   "cell_type": "code",
   "execution_count": 5,
   "metadata": {},
   "outputs": [],
   "source": [
    "from . import Algorithm"
   ]
  },
  {
   "cell_type": "markdown",
   "metadata": {},
   "source": [
    "$\\textbf{F} \\equiv \\textrm{the entropic force associated with a macrostate partition}$"
   ]
  },
  {
   "cell_type": "markdown",
   "metadata": {},
   "source": [
    "$\\textbf{X} \\equiv \\textrm{macrostate}$"
   ]
  },
  {
   "cell_type": "markdown",
   "metadata": {},
   "source": [
    "$\\textbf{\\{X\\}} \\equiv \\textrm{macrostate partition}$"
   ]
  },
  {
   "cell_type": "markdown",
   "metadata": {},
   "source": [
    "$\\textbf{X}_{0} \\equiv \\textrm{the present (current) macrostate}$"
   ]
  },
  {
   "cell_type": "markdown",
   "metadata": {},
   "source": [
    "$S(\\textbf{X}) \\equiv \\textrm{is the entropy associated with a macrostate $\\textbf{X}$}$"
   ]
  },
  {
   "cell_type": "markdown",
   "metadata": {},
   "source": [
    "$T \\equiv \\textrm{the reservoir temperature}$"
   ]
  },
  {
   "cell_type": "markdown",
   "metadata": {},
   "source": [
    "$\\textbf{F}(\\textbf{X}_{0})=T\\nabla_\\textbf{X}S(\\textbf{X})|_{\\textbf{X}_{0}}$ "
   ]
  },
  {
   "cell_type": "markdown",
   "metadata": {},
   "source": [
    "<cite data-cite=\"Wissner2013\">(Cite:Wissner2013)</cite>"
   ]
  },
  {
   "cell_type": "markdown",
   "metadata": {},
   "source": [
    "NOTE: Figure out how to switch between unsupervised and supervised learning. "
   ]
  },
  {
   "cell_type": "code",
   "execution_count": 2,
   "metadata": {},
   "outputs": [],
   "source": [
    "class Entropy:\n",
    "    def __call__(self, *args, **kwargs):\n",
    "        pass\n",
    "\n",
    "class Force:\n",
    "    def __call__(self, *args, **kwargs):\n",
    "        pass\n",
    "\n",
    "class Macrostate:\n",
    "    env = None\n",
    "    t_0 = None\n",
    "    x_0 = None\n",
    "\n",
    "    def __init__(self, env=None, x_0=None, t_0=None):\n",
    "        pass\n",
    "\n",
    "class Temperature:\n",
    "    def __mul__(self, other):\n",
    "        pass\n",
    "\n",
    "class System:\n",
    "    # thermodynamic / probability\n",
    "    def __init__(self, *args, **kwargs):\n",
    "        pass\n",
    "\n",
    "class Microstate:\n",
    "    pass"
   ]
  },
  {
   "cell_type": "markdown",
   "metadata": {},
   "source": [
    "project plan\n"
   ]
  },
  {
   "cell_type": "markdown",
   "metadata": {},
   "source": [
    "DEFINE AGENT DRIVER SENSOR ACUATOR CLASSES"
   ]
  },
  {
   "cell_type": "markdown",
   "metadata": {},
   "source": [
    "DEFINE GRAPH"
   ]
  },
  {
   "cell_type": "markdown",
   "metadata": {},
   "source": [
    "DEFINE PROTECTED BASE CLASS ABSTRACT / PROTECTED. FOR AI NAMESPACE (MIGHT BE OVERBOARD IN A LOT OF CASES/execpt DATABSE models for created / updated timestamps, we'll see)"
   ]
  },
  {
   "cell_type": "markdown",
   "metadata": {},
   "source": []
  },
  {
   "cell_type": "markdown",
   "metadata": {},
   "source": [
    "start proof"
   ]
  },
  {
   "cell_type": "code",
   "execution_count": null,
   "metadata": {},
   "outputs": [],
   "source": [
    "\n",
    "\n"
   ]
  },
  {
   "cell_type": "markdown",
   "metadata": {},
   "source": [
    "$S_{c} \\equiv \\textrm{causal path entropy}$"
   ]
  },
  {
   "cell_type": "markdown",
   "metadata": {},
   "source": [
    "$x \\equiv \\textrm{phase-space function}$"
   ]
  },
  {
   "cell_type": "markdown",
   "metadata": {},
   "source": [
    "$x(t) \\textrm{  for } 0 \\leq t \\leq \\tau \\equiv \\textrm{microstates}$"
   ]
  },
  {
   "cell_type": "code",
   "execution_count": 3,
   "metadata": {},
   "outputs": [],
   "source": [
    "class CausalPathEntropy(Entropy):\n",
    "    def __call__(self, macrostate, tau, *args, **kwargs):\n",
    "        pass\n",
    "\n",
    "class CausalEntropicForce(Force):\n",
    "    def __call__(self, macrostate_0, tau=None, *args, **kwargs):\n",
    "        pass\n",
    "    \n",
    "\n",
    "class ForceComponent(CausalEntropicForce):\n",
    "    j = None\n",
    "\n",
    "    def __init__(self, j):\n",
    "        self.j = j\n",
    "    \n",
    "    def __call__(self, macrostate_0, tau=None, *args, **kwargs):\n",
    "        pass\n",
    "\n"
   ]
  },
  {
   "cell_type": "code",
   "execution_count": 4,
   "metadata": {},
   "outputs": [],
   "source": [
    "def system_output(t, x_t, u_t):\n",
    "    pass\n",
    "\n",
    "def state_vector_first_derivative(t_0, t, x_t, x_0, u_t):\n",
    "    pass\n",
    "\n",
    "class MaximizeCausalForce(Algorithm):\n",
    "    def solve(F, X_0, *args, **kwargs):\n",
    "        pass\n"
   ]
  },
  {
   "cell_type": "code",
   "execution_count": null,
   "metadata": {},
   "outputs": [],
   "source": [
    "\n"
   ]
  },
  {
   "cell_type": "code",
   "execution_count": null,
   "metadata": {},
   "outputs": [],
   "source": []
  }
 ],
 "metadata": {
  "kernelspec": {
   "display_name": "Python 3",
   "language": "python",
   "name": "python3"
  },
  "language_info": {
   "codemirror_mode": {
    "name": "ipython",
    "version": 3
   },
   "file_extension": ".py",
   "mimetype": "text/x-python",
   "name": "python",
   "nbconvert_exporter": "python",
   "pygments_lexer": "ipython3",
   "version": "3.7.3"
  }
 },
 "nbformat": 4,
 "nbformat_minor": 2
}
