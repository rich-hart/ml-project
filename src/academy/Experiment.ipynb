{
 "cells": [
  {
   "cell_type": "code",
   "execution_count": 1,
   "metadata": {},
   "outputs": [],
   "source": [
    "import gym\n",
    "from datetime import datetime"
   ]
  },
  {
   "cell_type": "code",
   "execution_count": 2,
   "metadata": {},
   "outputs": [],
   "source": [
    "env = gym.make('CartPole-v1')"
   ]
  },
  {
   "cell_type": "code",
   "execution_count": 3,
   "metadata": {},
   "outputs": [
    {
     "data": {
      "text/plain": [
       "Discrete(2)"
      ]
     },
     "execution_count": 3,
     "metadata": {},
     "output_type": "execute_result"
    }
   ],
   "source": [
    "env.action_space"
   ]
  },
  {
   "cell_type": "code",
   "execution_count": 4,
   "metadata": {},
   "outputs": [
    {
     "name": "stdout",
     "output_type": "stream",
     "text": [
      "Help on Discrete in module gym.spaces.discrete object:\n",
      "\n",
      "class Discrete(gym.spaces.space.Space)\n",
      " |  Discrete(n)\n",
      " |  \n",
      " |  A discrete space in :math:`\\{ 0, 1, \\\\dots, n-1 \\}`. \n",
      " |  \n",
      " |  Example::\n",
      " |  \n",
      " |      >>> Discrete(2)\n",
      " |  \n",
      " |  Method resolution order:\n",
      " |      Discrete\n",
      " |      gym.spaces.space.Space\n",
      " |      builtins.object\n",
      " |  \n",
      " |  Methods defined here:\n",
      " |  \n",
      " |  __eq__(self, other)\n",
      " |      Return self==value.\n",
      " |  \n",
      " |  __init__(self, n)\n",
      " |      Initialize self.  See help(type(self)) for accurate signature.\n",
      " |  \n",
      " |  __repr__(self)\n",
      " |      Return repr(self).\n",
      " |  \n",
      " |  contains(self, x)\n",
      " |      Return boolean specifying if x is a valid\n",
      " |      member of this space\n",
      " |  \n",
      " |  sample(self)\n",
      " |      Randomly sample an element of this space. Can be \n",
      " |      uniform or non-uniform sampling based on boundedness of space.\n",
      " |  \n",
      " |  ----------------------------------------------------------------------\n",
      " |  Data and other attributes defined here:\n",
      " |  \n",
      " |  __hash__ = None\n",
      " |  \n",
      " |  ----------------------------------------------------------------------\n",
      " |  Methods inherited from gym.spaces.space.Space:\n",
      " |  \n",
      " |  __contains__(self, x)\n",
      " |  \n",
      " |  from_jsonable(self, sample_n)\n",
      " |      Convert a JSONable data type to a batch of samples from this space.\n",
      " |  \n",
      " |  seed(self, seed=None)\n",
      " |      Seed the PRNG of this space.\n",
      " |  \n",
      " |  to_jsonable(self, sample_n)\n",
      " |      Convert a batch of samples from this space to a JSONable data type.\n",
      " |  \n",
      " |  ----------------------------------------------------------------------\n",
      " |  Data descriptors inherited from gym.spaces.space.Space:\n",
      " |  \n",
      " |  __dict__\n",
      " |      dictionary for instance variables (if defined)\n",
      " |  \n",
      " |  __weakref__\n",
      " |      list of weak references to the object (if defined)\n",
      "\n"
     ]
    }
   ],
   "source": [
    "help(env.action_space)"
   ]
  },
  {
   "cell_type": "code",
   "execution_count": 5,
   "metadata": {},
   "outputs": [
    {
     "data": {
      "text/plain": [
       "2"
      ]
     },
     "execution_count": 5,
     "metadata": {},
     "output_type": "execute_result"
    }
   ],
   "source": [
    "env.action_space.n"
   ]
  },
  {
   "cell_type": "code",
   "execution_count": 6,
   "metadata": {},
   "outputs": [
    {
     "data": {
      "text/plain": [
       "Box(4,)"
      ]
     },
     "execution_count": 6,
     "metadata": {},
     "output_type": "execute_result"
    }
   ],
   "source": [
    "env.observation_space"
   ]
  },
  {
   "cell_type": "code",
   "execution_count": 7,
   "metadata": {},
   "outputs": [
    {
     "name": "stdout",
     "output_type": "stream",
     "text": [
      "Help on Box in module gym.spaces.box object:\n",
      "\n",
      "class Box(gym.spaces.space.Space)\n",
      " |  Box(low, high, shape=None, dtype=<class 'numpy.float32'>)\n",
      " |  \n",
      " |  A (possibly unbounded) box in R^n. Specifically, a Box represents the\n",
      " |  Cartesian product of n closed intervals. Each interval has the form of one\n",
      " |  of [a, b], (-oo, b], [a, oo), or (-oo, oo).\n",
      " |  \n",
      " |  There are two common use cases:\n",
      " |  \n",
      " |  * Identical bound for each dimension::\n",
      " |      >>> Box(low=-1.0, high=2.0, shape=(3, 4), dtype=np.float32)\n",
      " |      Box(3, 4)\n",
      " |      \n",
      " |  * Independent bound for each dimension::\n",
      " |      >>> Box(low=np.array([-1.0, -2.0]), high=np.array([2.0, 4.0]), dtype=np.float32)\n",
      " |      Box(2,)\n",
      " |  \n",
      " |  Method resolution order:\n",
      " |      Box\n",
      " |      gym.spaces.space.Space\n",
      " |      builtins.object\n",
      " |  \n",
      " |  Methods defined here:\n",
      " |  \n",
      " |  __eq__(self, other)\n",
      " |      Return self==value.\n",
      " |  \n",
      " |  __init__(self, low, high, shape=None, dtype=<class 'numpy.float32'>)\n",
      " |      Initialize self.  See help(type(self)) for accurate signature.\n",
      " |  \n",
      " |  __repr__(self)\n",
      " |      Return repr(self).\n",
      " |  \n",
      " |  contains(self, x)\n",
      " |      Return boolean specifying if x is a valid\n",
      " |      member of this space\n",
      " |  \n",
      " |  from_jsonable(self, sample_n)\n",
      " |      Convert a JSONable data type to a batch of samples from this space.\n",
      " |  \n",
      " |  is_bounded(self, manner='both')\n",
      " |  \n",
      " |  sample(self)\n",
      " |      Generates a single random sample inside of the Box. \n",
      " |      \n",
      " |      In creating a sample of the box, each coordinate is sampled according to\n",
      " |      the form of the interval:\n",
      " |      \n",
      " |      * [a, b] : uniform distribution \n",
      " |      * [a, oo) : shifted exponential distribution\n",
      " |      * (-oo, b] : shifted negative exponential distribution\n",
      " |      * (-oo, oo) : normal distribution\n",
      " |  \n",
      " |  to_jsonable(self, sample_n)\n",
      " |      Convert a batch of samples from this space to a JSONable data type.\n",
      " |  \n",
      " |  ----------------------------------------------------------------------\n",
      " |  Data and other attributes defined here:\n",
      " |  \n",
      " |  __hash__ = None\n",
      " |  \n",
      " |  ----------------------------------------------------------------------\n",
      " |  Methods inherited from gym.spaces.space.Space:\n",
      " |  \n",
      " |  __contains__(self, x)\n",
      " |  \n",
      " |  seed(self, seed=None)\n",
      " |      Seed the PRNG of this space.\n",
      " |  \n",
      " |  ----------------------------------------------------------------------\n",
      " |  Data descriptors inherited from gym.spaces.space.Space:\n",
      " |  \n",
      " |  __dict__\n",
      " |      dictionary for instance variables (if defined)\n",
      " |  \n",
      " |  __weakref__\n",
      " |      list of weak references to the object (if defined)\n",
      "\n"
     ]
    }
   ],
   "source": [
    "help(env.observation_space)"
   ]
  },
  {
   "cell_type": "code",
   "execution_count": 8,
   "metadata": {},
   "outputs": [
    {
     "data": {
      "text/plain": [
       "(4,)"
      ]
     },
     "execution_count": 8,
     "metadata": {},
     "output_type": "execute_result"
    }
   ],
   "source": [
    "env.observation_space.shape"
   ]
  },
  {
   "cell_type": "code",
   "execution_count": 9,
   "metadata": {},
   "outputs": [
    {
     "data": {
      "text/plain": [
       "array([4.8000002e+00, 3.4028235e+38, 4.1887903e-01, 3.4028235e+38],\n",
       "      dtype=float32)"
      ]
     },
     "execution_count": 9,
     "metadata": {},
     "output_type": "execute_result"
    }
   ],
   "source": [
    "env.observation_space.high"
   ]
  },
  {
   "cell_type": "code",
   "execution_count": 10,
   "metadata": {},
   "outputs": [
    {
     "data": {
      "text/plain": [
       "array([-4.8000002e+00, -3.4028235e+38, -4.1887903e-01, -3.4028235e+38],\n",
       "      dtype=float32)"
      ]
     },
     "execution_count": 10,
     "metadata": {},
     "output_type": "execute_result"
    }
   ],
   "source": [
    "env.observation_space.low"
   ]
  },
  {
   "cell_type": "code",
   "execution_count": 11,
   "metadata": {},
   "outputs": [
    {
     "data": {
      "text/plain": [
       "1"
      ]
     },
     "execution_count": 11,
     "metadata": {},
     "output_type": "execute_result"
    }
   ],
   "source": [
    "len(env.observation_space.shape)"
   ]
  },
  {
   "cell_type": "code",
   "execution_count": 12,
   "metadata": {},
   "outputs": [],
   "source": [
    "observation_space_dimention = len(env.observation_space.shape)"
   ]
  },
  {
   "cell_type": "code",
   "execution_count": 13,
   "metadata": {},
   "outputs": [],
   "source": [
    "\n",
    "\n",
    "class Agent:\n",
    "    current_environment = None\n",
    "    current_policy = None\n",
    "    name = None\n",
    "\n",
    "    def __init__(self, name, env=None, *arg, **kwargs):\n",
    "        self.name = name\n",
    "        self.current_environment = env\n",
    "\n",
    "    @property\n",
    "    def action_space(self):\n",
    "        return self.current_environment.action_space\n",
    "    \n",
    "    @property\n",
    "    def observation_space(self):\n",
    "        return self.current_environment.observation_space\n",
    "        \n",
    "    def interact_with(self, env):\n",
    "        self.set_environment(env)\n",
    "\n",
    "    def set_environment(self, env):\n",
    "        self.current_environment = env\n",
    "\n",
    "    def set_policy(self, policy):\n",
    "        self.current_policy = policy\n",
    "    \n",
    "    def policy(self, observation):\n",
    "        # Return an action\n",
    "        action = self.current_policy(observation)\n",
    "        return action\n",
    "\n",
    "\n",
    "class Policy:\n",
    "    env = None\n",
    "    name = None\n",
    "\n",
    "    def __init__(self, env, name):\n",
    "        self.name = name\n",
    "        self.env = env\n",
    "\n",
    "    def __call__(self, observation):\n",
    "        return self.get_action(observation)\n",
    "    \n",
    "    def __eq__(self,other):\n",
    "        return (self.env == other.env) and (self.name == other.name)\n",
    "\n",
    "    @property\n",
    "    def action_space(self):\n",
    "        return self.env.action_space\n",
    "    \n",
    "    def get_action(self, observation,*args,**kwargs):\n",
    "        pass\n",
    "\n",
    "    \n",
    "class RandomPolicy(Policy):\n",
    "    seed = None\n",
    "\n",
    "    def __init__(self, env, name='random', seed=None):\n",
    "        self.env = env\n",
    "        self.name = name\n",
    "        self.seed = seed\n",
    "    \n",
    "    def get_action(self, observation):\n",
    "        random_action = self.action_space.sample()\n",
    "        return random_action \n",
    "\n",
    "class RandomAgent(Agent):\n",
    "    seed = None\n",
    "\n",
    "    def __init__(self, name='random', env=None, seed=None,*args,**kwargs):\n",
    "        self.seed = seed\n",
    "        if env:\n",
    "            self.interact_with(env)\n",
    "            self.set_policy()\n",
    "\n",
    "    def set_policy(self):\n",
    "        self.current_policy = RandomPolicy(env=self.current_environment,name=self.name,seed=self.seed)\n"
   ]
  },
  {
   "cell_type": "code",
   "execution_count": 14,
   "metadata": {},
   "outputs": [],
   "source": [
    "random_agent = RandomAgent(env=env)"
   ]
  },
  {
   "cell_type": "code",
   "execution_count": 15,
   "metadata": {},
   "outputs": [
    {
     "data": {
      "text/plain": [
       "<__main__.RandomAgent at 0x7f3c492beb00>"
      ]
     },
     "execution_count": 15,
     "metadata": {},
     "output_type": "execute_result"
    }
   ],
   "source": [
    "random_agent"
   ]
  },
  {
   "cell_type": "code",
   "execution_count": 16,
   "metadata": {},
   "outputs": [],
   "source": [
    "random_action = random_agent.policy(env.observation_space.sample())"
   ]
  },
  {
   "cell_type": "code",
   "execution_count": 17,
   "metadata": {},
   "outputs": [
    {
     "data": {
      "text/plain": [
       "0"
      ]
     },
     "execution_count": 17,
     "metadata": {},
     "output_type": "execute_result"
    }
   ],
   "source": [
    "random_action"
   ]
  },
  {
   "cell_type": "code",
   "execution_count": 18,
   "metadata": {},
   "outputs": [],
   "source": [
    "\n",
    "\n",
    "class Database:\n",
    "    pass\n",
    "\n",
    "# Make context manager\n",
    "class Experiment:\n",
    "    description = None\n",
    "    procedure = None\n",
    "    database = None\n",
    "    start = None\n",
    "    stop = None\n",
    "    \n",
    "    _data = None\n",
    "\n",
    "    def __init__(self,desciption, procedure, database, *args,**kwargs):\n",
    "        self.desciption = desciption\n",
    "        self.procedure = procedure\n",
    "        self.database = database\n",
    "        \n",
    "        \n",
    "    def begin(self):\n",
    "        self.start = datetime.now()\n",
    "    \n",
    "    def end(self):\n",
    "        self.stop = datetime.now()\n",
    "\n",
    "class Trial:\n",
    "    pass\n",
    "\n",
    "class Language:\n",
    "    pass\n",
    "\n",
    "class Problem:\n",
    "    pass\n",
    "\n",
    "class Algorithm:\n",
    "    # _input = None\n",
    "    # _output = None\n",
    "    \n",
    "    # initialization\n",
    "    # maintainace \n",
    "    # termination\n",
    "    #@property\n",
    "    #def input(self):\n",
    "    #     pass\n",
    "    #@property\n",
    "    #def output(self):\n",
    "    #     pass\n",
    "    #def main(self):\n",
    "    #     pass\n",
    "    def solve(problem):\n",
    "        pass\n",
    "    \n",
    "class Procedure(Algorithm):\n",
    "    name = None\n",
    "    def __init__(self,*args,**kwargs):\n",
    "        pass\n",
    "\n",
    "class Conclusion:\n",
    "    pass\n",
    "\n",
    "class Hypothesis:\n",
    "    pass"
   ]
  },
  {
   "cell_type": "code",
   "execution_count": 19,
   "metadata": {},
   "outputs": [],
   "source": [
    "class Variable:\n",
    "    pass\n",
    "\n",
    "class RandomVariable:\n",
    "    pass\n",
    "\n",
    "class Observation:\n",
    "    pass\n",
    "\n",
    "class Network:\n",
    "    pass\n",
    "\n",
    "class BayesNetwork(Network):\n",
    "    pass\n",
    "\n",
    "class Knowledge(BayesNetwork):\n",
    "    pass\n",
    "\n",
    "class Engineer(Agent):\n",
    "    def create(self, *args,**kwargs):\n",
    "        # new policy?\n",
    "        pass\n",
    "\n",
    "#Procedures\n",
    "#class Material:\n",
    "#    pass\n",
    "#\n",
    "#class Tool:\n",
    "#    pass\n",
    "\n",
    "class Scientist(Agent):\n",
    "    #????\n",
    "    #def construct_hypotheses(self):\n",
    "    #    pass\n",
    "    def execute(self, procedure,*args,**kwargs):\n",
    "        pass\n",
    "    \n",
    "    def conduct(self, experiment,*args,**kwargs):\n",
    "        # execute has unknown parameters\n",
    "        self.setUp(experiment)\n",
    "        self.execute(experiment.procedure,experiment.database,*args,**kwargs)\n",
    "        self.cleanUp(experiment)\n",
    "    \n",
    "    def record(self, data, database):\n",
    "        # persist observation and actions and revant variables, constants\n",
    "        pass\n",
    "    \n",
    "    def analyze(self, data):\n",
    "        pass\n",
    "    \n",
    "    # draw conclusions ... ?? Generate bayesNetwork / Knowledge\n",
    "    def deduce(self):\n",
    "        pass\n",
    "    \n",
    "    def setUp(self, experiment):\n",
    "        experiment.begin()\n",
    "    \n",
    "    def cleanUp(self,experiment):\n",
    "        experiment.end()\n"
   ]
  },
  {
   "cell_type": "code",
   "execution_count": null,
   "metadata": {},
   "outputs": [],
   "source": []
  },
  {
   "cell_type": "code",
   "execution_count": 20,
   "metadata": {},
   "outputs": [],
   "source": [
    "#Experiment agent=Random, env = 'CartPole-v1', trials = 10, desciption=\"question: what effect does a random agent have on the CartPole-v1 enviroment?\""
   ]
  },
  {
   "cell_type": "code",
   "execution_count": 21,
   "metadata": {},
   "outputs": [],
   "source": [
    "# state_0 --> action_0 or action_1  --> state_1 -->> action_0 or action_1 --> ... --> state_n # or state_N"
   ]
  },
  {
   "cell_type": "code",
   "execution_count": 22,
   "metadata": {},
   "outputs": [],
   "source": [
    "scientist = Scientist('scientist')"
   ]
  },
  {
   "cell_type": "code",
   "execution_count": null,
   "metadata": {},
   "outputs": [],
   "source": []
  },
  {
   "cell_type": "code",
   "execution_count": 23,
   "metadata": {},
   "outputs": [],
   "source": [
    "class Node:\n",
    "    pass\n",
    "\n",
    "class Edge:\n",
    "    pass\n",
    "\n",
    "class Vertex(Node):\n",
    "    pass\n",
    "class Serializer: #SEE Django, Django RestFramework, neo4j\n",
    "    pass"
   ]
  },
  {
   "cell_type": "code",
   "execution_count": 24,
   "metadata": {},
   "outputs": [],
   "source": [
    "#NOTE:An algorithm is a procedure for solving a problem in terms of the actions to be executed and the order in which those actions are to be executed. An algorithm is merely the sequence of steps taken to solve a problem. The steps are normally \"sequence,\" \"selection, \" \"iteration,\" and a case-type statement.\n",
    "\n",
    "\n",
    "#NOTE: In C, \"sequence statements\" are imperatives. The \"selection\" is the \"if then else\" statement, and the iteration is satisfied by a number of statements, such as the \"while,\" \" do,\" and the \"for,\" while the case-type statement is satisfied by the \"switch\" statement."
   ]
  },
  {
   "cell_type": "code",
   "execution_count": 25,
   "metadata": {},
   "outputs": [],
   "source": [
    "####\n",
    "####\n",
    "# NOTE: Example Experment (Temp class definitions until I think of better ones).\n",
    "####\n",
    "####"
   ]
  },
  {
   "cell_type": "code",
   "execution_count": 33,
   "metadata": {},
   "outputs": [],
   "source": [
    "class ExampleScientist(Scientist):\n",
    "    def execute(self, procedure, database, env, subject, *args,**kwargs):\n",
    "        procedure.run(env=env,subject=subject,scientist=self,database=database, *args, **kwargs)\n",
    "    \n",
    "    def record(self, data, database):\n",
    "        print(data) #temp\n",
    "    \n",
    "    def analyze(self, data):\n",
    "        pass\n",
    "\n",
    "class ExampleProcedure(Procedure):\n",
    "    def __init__(self, name, trials=10, steps=1000,*args,**kwargs):\n",
    "        self.name = name\n",
    "        self.trials = trials\n",
    "        self.steps = steps\n",
    "\n",
    "    \n",
    "    def run(self, env, subject, scientist, database, *args,**kwargs):\n",
    "        data = {\n",
    "            'trial':None,\n",
    "            'obs':None,\n",
    "            'action':None,\n",
    "            'step':None,\n",
    "            'rew':None,\n",
    "            'done':None,\n",
    "            'info':None,\n",
    "        }\n",
    "        \n",
    "        for trial in range(1,self.trials+1):\n",
    "            data['trial'] = trial\n",
    "            obs = env.reset()\n",
    "            action = None\n",
    "            for step in range(self.steps):\n",
    "                data['obs'] = obs\n",
    "                data['action'] = action\n",
    "                data['step'] = step\n",
    "                scientist.record(data,database)\n",
    "                action = subject.policy(obs)\n",
    "                obs, rew, done, info = env.step(action)\n",
    "                data['rew'] = rew\n",
    "                data['done'] = done\n",
    "                data['info'] = info\n",
    "                if done:\n",
    "                    break\n",
    "        env.close()\n",
    "        \n",
    "#import gym\n",
    "#env = gym.make('CartPole-v0')\n",
    "#env.reset()\n",
    "#for _ in range(1000):\n",
    "#    env.render()\n",
    "#    env.step(env.action_space.sample()) # take a random action\n",
    "#env.close()\n",
    "class ExampleExperiment(Experiment):\n",
    "    pass\n",
    "\n",
    "class ExampleDatabase(Database):\n",
    "    pass"
   ]
  },
  {
   "cell_type": "code",
   "execution_count": 27,
   "metadata": {},
   "outputs": [],
   "source": [
    "env.close()"
   ]
  },
  {
   "cell_type": "code",
   "execution_count": null,
   "metadata": {},
   "outputs": [],
   "source": []
  },
  {
   "cell_type": "code",
   "execution_count": 41,
   "metadata": {},
   "outputs": [],
   "source": [
    "database = ExampleDatabase()\n",
    "procedure = ExampleProcedure('example')\n",
    "desciption = \"question: what effect does a random agent have on the CartPole-v1 enviroment?\"\n",
    "experiment = ExampleExperiment(desciption=desciption,procedure=procedure,database=database)\n",
    "env = gym.make('CartPole-v1')\n",
    "random_agent = RandomAgent(env=env)\n",
    "scientist = ExampleScientist('example')"
   ]
  },
  {
   "cell_type": "code",
   "execution_count": 42,
   "metadata": {},
   "outputs": [
    {
     "name": "stdout",
     "output_type": "stream",
     "text": [
      "{'trial': 1, 'obs': array([ 0.0116424 , -0.00615345, -0.01300044,  0.04475899]), 'action': None, 'step': 0, 'rew': None, 'done': None, 'info': None}\n",
      "{'trial': 1, 'obs': array([ 0.01151933,  0.18915249, -0.01210526, -0.25199718]), 'action': 1, 'step': 1, 'rew': 1.0, 'done': False, 'info': {}}\n",
      "{'trial': 1, 'obs': array([ 0.01530238, -0.00579453, -0.0171452 ,  0.03684307]), 'action': 0, 'step': 2, 'rew': 1.0, 'done': False, 'info': {}}\n",
      "{'trial': 1, 'obs': array([ 0.01518649,  0.18956903, -0.01640834, -0.26119965]), 'action': 1, 'step': 3, 'rew': 1.0, 'done': False, 'info': {}}\n",
      "{'trial': 1, 'obs': array([ 0.01897787,  0.38492132, -0.02163233, -0.55901247]), 'action': 1, 'step': 4, 'rew': 1.0, 'done': False, 'info': {}}\n",
      "{'trial': 1, 'obs': array([ 0.02667629,  0.58034013, -0.03281258, -0.85843151]), 'action': 1, 'step': 5, 'rew': 1.0, 'done': False, 'info': {}}\n",
      "{'trial': 1, 'obs': array([ 0.0382831 ,  0.38568017, -0.04998121, -0.57624391]), 'action': 0, 'step': 6, 'rew': 1.0, 'done': False, 'info': {}}\n",
      "{'trial': 1, 'obs': array([ 0.0459967 ,  0.58146579, -0.06150609, -0.88424395]), 'action': 1, 'step': 7, 'rew': 1.0, 'done': False, 'info': {}}\n",
      "{'trial': 1, 'obs': array([ 0.05762602,  0.77736655, -0.07919097, -1.19561085]), 'action': 1, 'step': 8, 'rew': 1.0, 'done': False, 'info': {}}\n",
      "{'trial': 1, 'obs': array([ 0.07317335,  0.97341938, -0.10310319, -1.51202627]), 'action': 1, 'step': 9, 'rew': 1.0, 'done': False, 'info': {}}\n",
      "{'trial': 1, 'obs': array([ 0.09264173,  1.16962789, -0.13334371, -1.83503477]), 'action': 1, 'step': 10, 'rew': 1.0, 'done': False, 'info': {}}\n",
      "{'trial': 1, 'obs': array([ 0.11603429,  1.36594892, -0.17004441, -2.16598915]), 'action': 1, 'step': 11, 'rew': 1.0, 'done': False, 'info': {}}\n",
      "{'trial': 2, 'obs': array([-0.00436395,  0.02544227, -0.02355555, -0.0220134 ]), 'action': None, 'step': 0, 'rew': 1.0, 'done': True, 'info': {}}\n",
      "{'trial': 2, 'obs': array([-0.0038551 ,  0.22089397, -0.02399581, -0.32203431]), 'action': 1, 'step': 1, 'rew': 1.0, 'done': False, 'info': {}}\n",
      "{'trial': 2, 'obs': array([ 5.62775792e-04,  4.16349261e-01, -3.04365005e-02, -6.22186940e-01]), 'action': 1, 'step': 2, 'rew': 1.0, 'done': False, 'info': {}}\n",
      "{'trial': 2, 'obs': array([ 0.00888976,  0.22166524, -0.04288024, -0.33924312]), 'action': 0, 'step': 3, 'rew': 1.0, 'done': False, 'info': {}}\n",
      "{'trial': 2, 'obs': array([ 0.01332307,  0.02717884, -0.0496651 , -0.0603846 ]), 'action': 0, 'step': 4, 'rew': 1.0, 'done': False, 'info': {}}\n",
      "{'trial': 2, 'obs': array([ 0.01386664, -0.16719713, -0.05087279,  0.21622431]), 'action': 0, 'step': 5, 'rew': 1.0, 'done': False, 'info': {}}\n",
      "{'trial': 2, 'obs': array([ 0.0105227 , -0.3615563 , -0.04654831,  0.49243573]), 'action': 0, 'step': 6, 'rew': 1.0, 'done': False, 'info': {}}\n",
      "{'trial': 2, 'obs': array([ 0.00329157, -0.55599185, -0.03669959,  0.77009288]), 'action': 0, 'step': 7, 'rew': 1.0, 'done': False, 'info': {}}\n",
      "{'trial': 2, 'obs': array([-0.00782826, -0.36038454, -0.02129774,  0.46609223]), 'action': 1, 'step': 8, 'rew': 1.0, 'done': False, 'info': {}}\n",
      "{'trial': 2, 'obs': array([-0.01503595, -0.16496824, -0.01197589,  0.16677319]), 'action': 1, 'step': 9, 'rew': 1.0, 'done': False, 'info': {}}\n",
      "{'trial': 2, 'obs': array([-0.01833532,  0.03032307, -0.00864043, -0.1296636 ]), 'action': 1, 'step': 10, 'rew': 1.0, 'done': False, 'info': {}}\n",
      "{'trial': 2, 'obs': array([-0.01772886,  0.22556773, -0.0112337 , -0.4250599 ]), 'action': 1, 'step': 11, 'rew': 1.0, 'done': False, 'info': {}}\n",
      "{'trial': 2, 'obs': array([-0.0132175 ,  0.42084699, -0.0197349 , -0.72126295]), 'action': 1, 'step': 12, 'rew': 1.0, 'done': False, 'info': {}}\n",
      "{'trial': 2, 'obs': array([-0.00480056,  0.61623631, -0.03416016, -1.02009154]), 'action': 1, 'step': 13, 'rew': 1.0, 'done': False, 'info': {}}\n",
      "{'trial': 2, 'obs': array([ 0.00752416,  0.42158583, -0.05456199, -0.73832729]), 'action': 0, 'step': 14, 'rew': 1.0, 'done': False, 'info': {}}\n",
      "{'trial': 2, 'obs': array([ 0.01595588,  0.61741711, -0.06932853, -1.04767034]), 'action': 1, 'step': 15, 'rew': 1.0, 'done': False, 'info': {}}\n",
      "{'trial': 2, 'obs': array([ 0.02830422,  0.42328023, -0.09028194, -0.77753084]), 'action': 0, 'step': 16, 'rew': 1.0, 'done': False, 'info': {}}\n",
      "{'trial': 2, 'obs': array([ 0.03676983,  0.22950811, -0.10583256, -0.51456325]), 'action': 0, 'step': 17, 'rew': 1.0, 'done': False, 'info': {}}\n",
      "{'trial': 2, 'obs': array([ 0.04135999,  0.03602333, -0.11612382, -0.25701664]), 'action': 0, 'step': 18, 'rew': 1.0, 'done': False, 'info': {}}\n",
      "{'trial': 2, 'obs': array([ 0.04208046, -0.15726577, -0.12126415, -0.00309936]), 'action': 0, 'step': 19, 'rew': 1.0, 'done': False, 'info': {}}\n",
      "{'trial': 2, 'obs': array([ 0.03893514, -0.35045876, -0.12132614,  0.24899771]), 'action': 0, 'step': 20, 'rew': 1.0, 'done': False, 'info': {}}\n",
      "{'trial': 2, 'obs': array([ 0.03192596, -0.15383191, -0.11634619, -0.0793569 ]), 'action': 1, 'step': 21, 'rew': 1.0, 'done': False, 'info': {}}\n",
      "{'trial': 2, 'obs': array([ 0.02884933, -0.34711044, -0.11793333,  0.17447222]), 'action': 0, 'step': 22, 'rew': 1.0, 'done': False, 'info': {}}\n",
      "{'trial': 2, 'obs': array([ 0.02190712, -0.15051543, -0.11444388, -0.15296403]), 'action': 1, 'step': 23, 'rew': 1.0, 'done': False, 'info': {}}\n",
      "{'trial': 2, 'obs': array([ 0.01889681,  0.04604336, -0.11750316, -0.47944662]), 'action': 1, 'step': 24, 'rew': 1.0, 'done': False, 'info': {}}\n",
      "{'trial': 2, 'obs': array([ 0.01981768,  0.24261105, -0.12709209, -0.80673147]), 'action': 1, 'step': 25, 'rew': 1.0, 'done': False, 'info': {}}\n",
      "{'trial': 2, 'obs': array([ 0.0246699 ,  0.04943882, -0.14322672, -0.5565747 ]), 'action': 0, 'step': 26, 'rew': 1.0, 'done': False, 'info': {}}\n",
      "{'trial': 2, 'obs': array([ 0.02565867, -0.14341267, -0.15435822, -0.31222434]), 'action': 0, 'step': 27, 'rew': 1.0, 'done': False, 'info': {}}\n",
      "{'trial': 2, 'obs': array([ 0.02279042, -0.33603735, -0.1606027 , -0.07192397]), 'action': 0, 'step': 28, 'rew': 1.0, 'done': False, 'info': {}}\n",
      "{'trial': 2, 'obs': array([ 0.01606967, -0.52853604, -0.16204118,  0.16609371]), 'action': 0, 'step': 29, 'rew': 1.0, 'done': False, 'info': {}}\n",
      "{'trial': 2, 'obs': array([ 0.00549895, -0.72101232, -0.15871931,  0.40359409]), 'action': 0, 'step': 30, 'rew': 1.0, 'done': False, 'info': {}}\n",
      "{'trial': 2, 'obs': array([-0.00892129, -0.91356919, -0.15064743,  0.64233107]), 'action': 0, 'step': 31, 'rew': 1.0, 'done': False, 'info': {}}\n",
      "{'trial': 2, 'obs': array([-0.02719268, -1.10630594, -0.13780081,  0.88403883]), 'action': 0, 'step': 32, 'rew': 1.0, 'done': False, 'info': {}}\n",
      "{'trial': 2, 'obs': array([-0.0493188 , -1.29931481, -0.12012003,  1.13042234]), 'action': 0, 'step': 33, 'rew': 1.0, 'done': False, 'info': {}}\n",
      "{'trial': 2, 'obs': array([-0.07530509, -1.10284251, -0.09751158,  0.80260706]), 'action': 1, 'step': 34, 'rew': 1.0, 'done': False, 'info': {}}\n",
      "{'trial': 2, 'obs': array([-0.09736194, -0.90652828, -0.08145944,  0.48091161]), 'action': 1, 'step': 35, 'rew': 1.0, 'done': False, 'info': {}}\n",
      "{'trial': 2, 'obs': array([-0.11549251, -0.71035664, -0.07184121,  0.16370731]), 'action': 1, 'step': 36, 'rew': 1.0, 'done': False, 'info': {}}\n",
      "{'trial': 2, 'obs': array([-0.12969964, -0.51428372, -0.06856706, -0.15074658]), 'action': 1, 'step': 37, 'rew': 1.0, 'done': False, 'info': {}}\n",
      "{'trial': 2, 'obs': array([-0.13998532, -0.70836026, -0.07158199,  0.11954124]), 'action': 0, 'step': 38, 'rew': 1.0, 'done': False, 'info': {}}\n",
      "{'trial': 2, 'obs': array([-0.15415252, -0.5122896 , -0.06919117, -0.19483871]), 'action': 1, 'step': 39, 'rew': 1.0, 'done': False, 'info': {}}\n",
      "{'trial': 2, 'obs': array([-0.16439831, -0.31624964, -0.07308794, -0.50852102]), 'action': 1, 'step': 40, 'rew': 1.0, 'done': False, 'info': {}}\n",
      "{'trial': 2, 'obs': array([-0.17072331, -0.51026985, -0.08325836, -0.2397364 ]), 'action': 0, 'step': 41, 'rew': 1.0, 'done': False, 'info': {}}\n",
      "{'trial': 2, 'obs': array([-0.1809287 , -0.31406331, -0.08805309, -0.55747641]), 'action': 1, 'step': 42, 'rew': 1.0, 'done': False, 'info': {}}\n",
      "{'trial': 2, 'obs': array([-0.18720997, -0.50784598, -0.09920262, -0.2937827 ]), 'action': 0, 'step': 43, 'rew': 1.0, 'done': False, 'info': {}}\n",
      "{'trial': 2, 'obs': array([-0.19736689, -0.31145993, -0.10507827, -0.61603123]), 'action': 1, 'step': 44, 'rew': 1.0, 'done': False, 'info': {}}\n",
      "{'trial': 2, 'obs': array([-0.20359609, -0.50496904, -0.1173989 , -0.35820474]), 'action': 0, 'step': 45, 'rew': 1.0, 'done': False, 'info': {}}\n",
      "{'trial': 2, 'obs': array([-0.21369547, -0.30839084, -0.12456299, -0.68547842]), 'action': 1, 'step': 46, 'rew': 1.0, 'done': False, 'info': {}}\n",
      "{'trial': 2, 'obs': array([-0.21986328, -0.50158355, -0.13827256, -0.43446151]), 'action': 0, 'step': 47, 'rew': 1.0, 'done': False, 'info': {}}\n",
      "{'trial': 2, 'obs': array([-0.22989496, -0.30480267, -0.14696179, -0.76733831]), 'action': 1, 'step': 48, 'rew': 1.0, 'done': False, 'info': {}}\n",
      "{'trial': 2, 'obs': array([-0.23599101, -0.10799619, -0.16230856, -1.10241723]), 'action': 1, 'step': 49, 'rew': 1.0, 'done': False, 'info': {}}\n",
      "{'trial': 2, 'obs': array([-0.23815093,  0.08884512, -0.1843569 , -1.441308  ]), 'action': 1, 'step': 50, 'rew': 1.0, 'done': False, 'info': {}}\n",
      "{'trial': 3, 'obs': array([-0.02327215, -0.00782178, -0.04014898, -0.03538571]), 'action': None, 'step': 0, 'rew': 1.0, 'done': True, 'info': {}}\n",
      "{'trial': 3, 'obs': array([-0.02342859, -0.20234567, -0.04085669,  0.24436436]), 'action': 0, 'step': 1, 'rew': 1.0, 'done': False, 'info': {}}\n",
      "{'trial': 3, 'obs': array([-0.0274755 , -0.39686097, -0.0359694 ,  0.52388529]), 'action': 0, 'step': 2, 'rew': 1.0, 'done': False, 'info': {}}\n",
      "{'trial': 3, 'obs': array([-0.03541272, -0.20125175, -0.0254917 ,  0.22008852]), 'action': 1, 'step': 3, 'rew': 1.0, 'done': False, 'info': {}}\n",
      "{'trial': 3, 'obs': array([-0.03943776, -0.39600021, -0.02108993,  0.50462256]), 'action': 0, 'step': 4, 'rew': 1.0, 'done': False, 'info': {}}\n",
      "{'trial': 3, 'obs': array([-0.04735776, -0.20058749, -0.01099748,  0.20536868]), 'action': 1, 'step': 5, 'rew': 1.0, 'done': False, 'info': {}}\n",
      "{'trial': 3, 'obs': array([-0.05136951, -0.39555046, -0.0068901 ,  0.49456226]), 'action': 0, 'step': 6, 'rew': 1.0, 'done': False, 'info': {}}\n",
      "{'trial': 3, 'obs': array([-0.05928052, -0.20033202,  0.00300114,  0.19971588]), 'action': 1, 'step': 7, 'rew': 1.0, 'done': False, 'info': {}}\n",
      "{'trial': 3, 'obs': array([-0.06328716, -0.00525312,  0.00699546, -0.09201882]), 'action': 1, 'step': 8, 'rew': 1.0, 'done': False, 'info': {}}\n",
      "{'trial': 3, 'obs': array([-0.06339222,  0.18976787,  0.00515508, -0.3824865 ]), 'action': 1, 'step': 9, 'rew': 1.0, 'done': False, 'info': {}}\n",
      "{'trial': 3, 'obs': array([-0.05959686,  0.38481624, -0.00249465, -0.67353959]), 'action': 1, 'step': 10, 'rew': 1.0, 'done': False, 'info': {}}\n",
      "{'trial': 3, 'obs': array([-0.05190054,  0.18972905, -0.01596544, -0.38164314]), 'action': 0, 'step': 11, 'rew': 1.0, 'done': False, 'info': {}}\n",
      "{'trial': 3, 'obs': array([-0.04810596, -0.0051626 , -0.0235983 , -0.09403655]), 'action': 0, 'step': 12, 'rew': 1.0, 'done': False, 'info': {}}\n",
      "{'trial': 3, 'obs': array([-0.04820921, -0.19993851, -0.02547903,  0.19110871]), 'action': 0, 'step': 13, 'rew': 1.0, 'done': False, 'info': {}}\n",
      "{'trial': 3, 'obs': array([-0.05220798, -0.0044615 , -0.02165686, -0.10950166]), 'action': 1, 'step': 14, 'rew': 1.0, 'done': False, 'info': {}}\n",
      "{'trial': 3, 'obs': array([-0.05229721, -0.19926653, -0.02384689,  0.17627074]), 'action': 0, 'step': 15, 'rew': 1.0, 'done': False, 'info': {}}\n",
      "{'trial': 3, 'obs': array([-0.05628254, -0.39403923, -0.02032148,  0.46133641]), 'action': 0, 'step': 16, 'rew': 1.0, 'done': False, 'info': {}}\n",
      "{'trial': 3, 'obs': array([-0.06416333, -0.58886816, -0.01109475,  0.74754535]), 'action': 0, 'step': 17, 'rew': 1.0, 'done': False, 'info': {}}\n",
      "{'trial': 3, 'obs': array([-0.07594069, -0.39359491,  0.00385616,  0.45139172]), 'action': 1, 'step': 18, 'rew': 1.0, 'done': False, 'info': {}}\n",
      "{'trial': 3, 'obs': array([-0.08381259, -0.19852771,  0.01288399,  0.1599268 ]), 'action': 1, 'step': 19, 'rew': 1.0, 'done': False, 'info': {}}\n",
      "{'trial': 3, 'obs': array([-0.08778314, -0.39383172,  0.01608253,  0.45664629]), 'action': 0, 'step': 20, 'rew': 1.0, 'done': False, 'info': {}}\n",
      "{'trial': 3, 'obs': array([-0.09565978, -0.58917731,  0.02521545,  0.75435484]), 'action': 0, 'step': 21, 'rew': 1.0, 'done': False, 'info': {}}\n",
      "{'trial': 3, 'obs': array([-0.10744332, -0.39441189,  0.04030255,  0.46971215]), 'action': 1, 'step': 22, 'rew': 1.0, 'done': False, 'info': {}}\n",
      "{'trial': 3, 'obs': array([-0.11533156, -0.19988175,  0.04969679,  0.18999962]), 'action': 1, 'step': 23, 'rew': 1.0, 'done': False, 'info': {}}\n",
      "{'trial': 3, 'obs': array([-0.1193292 , -0.39567815,  0.05349679,  0.49793646]), 'action': 0, 'step': 24, 'rew': 1.0, 'done': False, 'info': {}}\n",
      "{'trial': 3, 'obs': array([-0.12724276, -0.59151196,  0.06345552,  0.80698748]), 'action': 0, 'step': 25, 'rew': 1.0, 'done': False, 'info': {}}\n",
      "{'trial': 3, 'obs': array([-0.139073  , -0.39731446,  0.07959527,  0.53492091]), 'action': 1, 'step': 26, 'rew': 1.0, 'done': False, 'info': {}}\n",
      "{'trial': 3, 'obs': array([-0.14701929, -0.59346018,  0.09029368,  0.85158429]), 'action': 0, 'step': 27, 'rew': 1.0, 'done': False, 'info': {}}\n",
      "{'trial': 3, 'obs': array([-0.15888849, -0.39967763,  0.10732537,  0.58860488]), 'action': 1, 'step': 28, 'rew': 1.0, 'done': False, 'info': {}}\n",
      "{'trial': 3, 'obs': array([-0.16688204, -0.59612585,  0.11909747,  0.91307482]), 'action': 0, 'step': 29, 'rew': 1.0, 'done': False, 'info': {}}\n",
      "{'trial': 3, 'obs': array([-0.17880456, -0.40279888,  0.13735896,  0.66007052]), 'action': 1, 'step': 30, 'rew': 1.0, 'done': False, 'info': {}}\n",
      "{'trial': 3, 'obs': array([-0.18686054, -0.59953797,  0.15056037,  0.99265622]), 'action': 0, 'step': 31, 'rew': 1.0, 'done': False, 'info': {}}\n",
      "{'trial': 3, 'obs': array([-0.1988513 , -0.40671602,  0.1704135 ,  0.75079303]), 'action': 1, 'step': 32, 'rew': 1.0, 'done': False, 'info': {}}\n",
      "{'trial': 3, 'obs': array([-0.20698562, -0.60372704,  0.18542936,  1.09188835]), 'action': 0, 'step': 33, 'rew': 1.0, 'done': False, 'info': {}}\n",
      "{'trial': 3, 'obs': array([-0.21906016, -0.80074332,  0.20726713,  1.43655099]), 'action': 0, 'step': 34, 'rew': 1.0, 'done': False, 'info': {}}\n",
      "{'trial': 4, 'obs': array([-0.0224379 ,  0.03058736,  0.02396907, -0.00726002]), 'action': None, 'step': 0, 'rew': 1.0, 'done': True, 'info': {}}\n",
      "{'trial': 4, 'obs': array([-0.02182616,  0.22535751,  0.02382387, -0.29228509]), 'action': 1, 'step': 1, 'rew': 1.0, 'done': False, 'info': {}}\n",
      "{'trial': 4, 'obs': array([-0.01731901,  0.02990412,  0.01797817,  0.00781536]), 'action': 0, 'step': 2, 'rew': 1.0, 'done': False, 'info': {}}\n",
      "{'trial': 4, 'obs': array([-0.01672093,  0.22476368,  0.01813448, -0.27914146]), 'action': 1, 'step': 3, 'rew': 1.0, 'done': False, 'info': {}}\n",
      "{'trial': 4, 'obs': array([-0.01222565,  0.41962231,  0.01255165, -0.56605009]), 'action': 1, 'step': 4, 'rew': 1.0, 'done': False, 'info': {}}\n",
      "{'trial': 4, 'obs': array([-0.00383321,  0.61456595,  0.00123065, -0.85475243]), 'action': 1, 'step': 5, 'rew': 1.0, 'done': False, 'info': {}}\n",
      "{'trial': 4, 'obs': array([ 0.00845811,  0.8096711 , -0.0158644 , -1.14704813]), 'action': 1, 'step': 6, 'rew': 1.0, 'done': False, 'info': {}}\n",
      "{'trial': 4, 'obs': array([ 0.02465154,  0.61475986, -0.03880536, -0.85938199]), 'action': 0, 'step': 7, 'rew': 1.0, 'done': False, 'info': {}}\n",
      "{'trial': 4, 'obs': array([ 0.03694673,  0.81038828, -0.055993  , -1.16400962]), 'action': 1, 'step': 8, 'rew': 1.0, 'done': False, 'info': {}}\n",
      "{'trial': 4, 'obs': array([ 0.0531545 ,  1.00619273, -0.0792732 , -1.47370934]), 'action': 1, 'step': 9, 'rew': 1.0, 'done': False, 'info': {}}\n",
      "{'trial': 4, 'obs': array([ 0.07327835,  1.20218909, -0.10874738, -1.79006252]), 'action': 1, 'step': 10, 'rew': 1.0, 'done': False, 'info': {}}\n",
      "{'trial': 4, 'obs': array([ 0.09732213,  1.00844216, -0.14454863, -1.53306763]), 'action': 0, 'step': 11, 'rew': 1.0, 'done': False, 'info': {}}\n",
      "{'trial': 4, 'obs': array([ 0.11749098,  1.20497972, -0.17520999, -1.86714889]), 'action': 1, 'step': 12, 'rew': 1.0, 'done': False, 'info': {}}\n",
      "{'trial': 5, 'obs': array([-9.86272053e-06, -2.91244168e-02,  4.11260099e-03, -3.71567228e-02]), 'action': None, 'step': 0, 'rew': 1.0, 'done': True, 'info': {}}\n",
      "{'trial': 5, 'obs': array([-0.00059235, -0.2243051 ,  0.00336947,  0.25682093]), 'action': 0, 'step': 1, 'rew': 1.0, 'done': False, 'info': {}}\n",
      "{'trial': 5, 'obs': array([-0.00507845, -0.02923142,  0.00850589, -0.03479731]), 'action': 1, 'step': 2, 'rew': 1.0, 'done': False, 'info': {}}\n",
      "{'trial': 5, 'obs': array([-0.00566308, -0.22447431,  0.00780994,  0.26055712]), 'action': 0, 'step': 3, 'rew': 1.0, 'done': False, 'info': {}}\n",
      "{'trial': 5, 'obs': array([-0.01015257, -0.41970687,  0.01302108,  0.55569314]), 'action': 0, 'step': 4, 'rew': 1.0, 'done': False, 'info': {}}\n",
      "{'trial': 5, 'obs': array([-0.0185467 , -0.6150092 ,  0.02413494,  0.85244988]), 'action': 0, 'step': 5, 'rew': 1.0, 'done': False, 'info': {}}\n",
      "{'trial': 5, 'obs': array([-0.03084689, -0.81045171,  0.04118394,  1.15262325]), 'action': 0, 'step': 6, 'rew': 1.0, 'done': False, 'info': {}}\n",
      "{'trial': 5, 'obs': array([-0.04705592, -0.61589049,  0.06423641,  0.87313355]), 'action': 1, 'step': 7, 'rew': 1.0, 'done': False, 'info': {}}\n",
      "{'trial': 5, 'obs': array([-0.05937373, -0.81182434,  0.08169908,  1.18530068]), 'action': 0, 'step': 8, 'rew': 1.0, 'done': False, 'info': {}}\n",
      "{'trial': 5, 'obs': array([-0.07561022, -0.61785153,  0.10540509,  0.91930479]), 'action': 1, 'step': 9, 'rew': 1.0, 'done': False, 'info': {}}\n",
      "{'trial': 5, 'obs': array([-0.08796725, -0.42430009,  0.12379119,  0.66152068]), 'action': 1, 'step': 10, 'rew': 1.0, 'done': False, 'info': {}}\n",
      "{'trial': 5, 'obs': array([-0.09645325, -0.23109822,  0.1370216 ,  0.41023727]), 'action': 1, 'step': 11, 'rew': 1.0, 'done': False, 'info': {}}\n",
      "{'trial': 5, 'obs': array([-0.10107522, -0.03815783,  0.14522635,  0.16369768]), 'action': 1, 'step': 12, 'rew': 1.0, 'done': False, 'info': {}}\n",
      "{'trial': 5, 'obs': array([-0.10183837, -0.23502791,  0.1485003 ,  0.4984408 ]), 'action': 0, 'step': 13, 'rew': 1.0, 'done': False, 'info': {}}\n",
      "{'trial': 5, 'obs': array([-0.10653893, -0.04227737,  0.15846912,  0.25599589]), 'action': 1, 'step': 14, 'rew': 1.0, 'done': False, 'info': {}}\n",
      "{'trial': 5, 'obs': array([-0.10738448,  0.150269  ,  0.16358903,  0.01719041]), 'action': 1, 'step': 15, 'rew': 1.0, 'done': False, 'info': {}}\n",
      "{'trial': 5, 'obs': array([-0.1043791 ,  0.34271304,  0.16393284, -0.21974076]), 'action': 1, 'step': 16, 'rew': 1.0, 'done': False, 'info': {}}\n",
      "{'trial': 5, 'obs': array([-0.09752484,  0.14567363,  0.15953803,  0.11983649]), 'action': 0, 'step': 17, 'rew': 1.0, 'done': False, 'info': {}}\n",
      "{'trial': 5, 'obs': array([-0.09461137,  0.33819291,  0.16193476, -0.11856971]), 'action': 1, 'step': 18, 'rew': 1.0, 'done': False, 'info': {}}\n",
      "{'trial': 5, 'obs': array([-0.08784751,  0.14116593,  0.15956336,  0.22050528]), 'action': 0, 'step': 19, 'rew': 1.0, 'done': False, 'info': {}}\n",
      "{'trial': 5, 'obs': array([-0.08502419, -0.05583431,  0.16397347,  0.55896465]), 'action': 0, 'step': 20, 'rew': 1.0, 'done': False, 'info': {}}\n",
      "{'trial': 5, 'obs': array([-0.08614087,  0.1366524 ,  0.17515276,  0.32209994]), 'action': 1, 'step': 21, 'rew': 1.0, 'done': False, 'info': {}}\n",
      "{'trial': 5, 'obs': array([-0.08340783,  0.32890394,  0.18159476,  0.08936684]), 'action': 1, 'step': 22, 'rew': 1.0, 'done': False, 'info': {}}\n",
      "{'trial': 5, 'obs': array([-0.07682975,  0.13170655,  0.1833821 ,  0.43339504]), 'action': 0, 'step': 23, 'rew': 1.0, 'done': False, 'info': {}}\n",
      "{'trial': 5, 'obs': array([-0.07419562,  0.32382306,  0.19205   ,  0.20366489]), 'action': 1, 'step': 24, 'rew': 1.0, 'done': False, 'info': {}}\n",
      "{'trial': 5, 'obs': array([-0.06771916,  0.51575404,  0.19612329, -0.02282236]), 'action': 1, 'step': 25, 'rew': 1.0, 'done': False, 'info': {}}\n",
      "{'trial': 5, 'obs': array([-0.05740407,  0.31843932,  0.19566685,  0.32476707]), 'action': 0, 'step': 26, 'rew': 1.0, 'done': False, 'info': {}}\n",
      "{'trial': 5, 'obs': array([-0.05103529,  0.51031551,  0.20216219,  0.09960447]), 'action': 1, 'step': 27, 'rew': 1.0, 'done': False, 'info': {}}\n",
      "{'trial': 5, 'obs': array([-0.04082898,  0.31295675,  0.20415428,  0.44864538]), 'action': 0, 'step': 28, 'rew': 1.0, 'done': False, 'info': {}}\n",
      "{'trial': 6, 'obs': array([-0.02099591,  0.02171817,  0.04069201,  0.03933588]), 'action': None, 'step': 0, 'rew': 1.0, 'done': True, 'info': {}}\n",
      "{'trial': 6, 'obs': array([-0.02056155,  0.21623369,  0.04147873, -0.24023572]), 'action': 1, 'step': 1, 'rew': 1.0, 'done': False, 'info': {}}\n",
      "{'trial': 6, 'obs': array([-0.01623687,  0.02054451,  0.03667401,  0.06523682]), 'action': 0, 'step': 2, 'rew': 1.0, 'done': False, 'info': {}}\n",
      "{'trial': 6, 'obs': array([-0.01582598,  0.21512199,  0.03797875, -0.21565339]), 'action': 1, 'step': 3, 'rew': 1.0, 'done': False, 'info': {}}\n",
      "{'trial': 6, 'obs': array([-0.01152354,  0.40968099,  0.03366568, -0.49611838]), 'action': 1, 'step': 4, 'rew': 1.0, 'done': False, 'info': {}}\n",
      "{'trial': 6, 'obs': array([-0.00332992,  0.60431244,  0.02374331, -0.77800429]), 'action': 1, 'step': 5, 'rew': 1.0, 'done': False, 'info': {}}\n",
      "{'trial': 6, 'obs': array([ 0.00875633,  0.40887218,  0.00818323, -0.47794665]), 'action': 0, 'step': 6, 'rew': 1.0, 'done': False, 'info': {}}\n",
      "{'trial': 6, 'obs': array([ 0.01693377,  0.60387764, -0.00137571, -0.76803921]), 'action': 1, 'step': 7, 'rew': 1.0, 'done': False, 'info': {}}\n",
      "{'trial': 6, 'obs': array([ 0.02901132,  0.40877466, -0.01673649, -0.47578947]), 'action': 0, 'step': 8, 'rew': 1.0, 'done': False, 'info': {}}\n",
      "{'trial': 6, 'obs': array([ 0.03718682,  0.21389299, -0.02625228, -0.1884282 ]), 'action': 0, 'step': 9, 'rew': 1.0, 'done': False, 'info': {}}\n",
      "{'trial': 6, 'obs': array([ 0.04146468,  0.4093805 , -0.03002084, -0.48927571]), 'action': 1, 'step': 10, 'rew': 1.0, 'done': False, 'info': {}}\n",
      "{'trial': 6, 'obs': array([ 0.04965229,  0.60491283, -0.03980636, -0.79126685]), 'action': 1, 'step': 11, 'rew': 1.0, 'done': False, 'info': {}}\n",
      "{'trial': 6, 'obs': array([ 0.06175054,  0.41035939, -0.05563169, -0.51136786]), 'action': 0, 'step': 12, 'rew': 1.0, 'done': False, 'info': {}}\n",
      "{'trial': 6, 'obs': array([ 0.06995773,  0.60621905, -0.06585905, -0.82105011]), 'action': 1, 'step': 13, 'rew': 1.0, 'done': False, 'info': {}}\n",
      "{'trial': 6, 'obs': array([ 0.08208211,  0.8021774 , -0.08228005, -1.13369897]), 'action': 1, 'step': 14, 'rew': 1.0, 'done': False, 'info': {}}\n",
      "{'trial': 6, 'obs': array([ 0.09812566,  0.60822295, -0.10495403, -0.8679146 ]), 'action': 0, 'step': 15, 'rew': 1.0, 'done': False, 'info': {}}\n",
      "{'trial': 6, 'obs': array([ 0.11029012,  0.80460437, -0.12231232, -1.19166569]), 'action': 1, 'step': 16, 'rew': 1.0, 'done': False, 'info': {}}\n",
      "{'trial': 6, 'obs': array([ 0.12638221,  0.61126068, -0.14614564, -0.93968703]), 'action': 0, 'step': 17, 'rew': 1.0, 'done': False, 'info': {}}\n",
      "{'trial': 6, 'obs': array([ 0.13860742,  0.4183788 , -0.16493938, -0.6962625 ]), 'action': 0, 'step': 18, 'rew': 1.0, 'done': False, 'info': {}}\n",
      "{'trial': 6, 'obs': array([ 0.14697499,  0.61535733, -0.17886463, -1.03599291]), 'action': 1, 'step': 19, 'rew': 1.0, 'done': False, 'info': {}}\n",
      "{'trial': 6, 'obs': array([ 0.15928214,  0.4230054 , -0.19958449, -0.80437435]), 'action': 0, 'step': 20, 'rew': 1.0, 'done': False, 'info': {}}\n",
      "{'trial': 7, 'obs': array([-0.01764581, -0.0072228 ,  0.02021714, -0.00820037]), 'action': None, 'step': 0, 'rew': 1.0, 'done': True, 'info': {}}\n",
      "{'trial': 7, 'obs': array([-0.01779026, -0.20262877,  0.02005313,  0.29079212]), 'action': 0, 'step': 1, 'rew': 1.0, 'done': False, 'info': {}}\n",
      "{'trial': 7, 'obs': array([-0.02184284, -0.39803083,  0.02586897,  0.58973151]), 'action': 0, 'step': 2, 'rew': 1.0, 'done': False, 'info': {}}\n",
      "{'trial': 7, 'obs': array([-0.02980345, -0.20328047,  0.0376636 ,  0.30530834]), 'action': 1, 'step': 3, 'rew': 1.0, 'done': False, 'info': {}}\n",
      "{'trial': 7, 'obs': array([-0.03386906, -0.39891834,  0.04376977,  0.60962751]), 'action': 0, 'step': 4, 'rew': 1.0, 'done': False, 'info': {}}\n",
      "{'trial': 7, 'obs': array([-0.04184743, -0.20443469,  0.05596232,  0.33104563]), 'action': 1, 'step': 5, 'rew': 1.0, 'done': False, 'info': {}}\n",
      "{'trial': 7, 'obs': array([-0.04593612, -0.01015214,  0.06258323,  0.05652236]), 'action': 1, 'step': 6, 'rew': 1.0, 'done': False, 'info': {}}\n",
      "{'trial': 7, 'obs': array([-0.04613917, -0.20611301,  0.06371368,  0.36827567]), 'action': 0, 'step': 7, 'rew': 1.0, 'done': False, 'info': {}}\n",
      "{'trial': 7, 'obs': array([-0.05026143, -0.40207968,  0.07107919,  0.6803484 ]), 'action': 0, 'step': 8, 'rew': 1.0, 'done': False, 'info': {}}\n",
      "{'trial': 7, 'obs': array([-0.05830302, -0.59811316,  0.08468616,  0.99453582]), 'action': 0, 'step': 9, 'rew': 1.0, 'done': False, 'info': {}}\n",
      "{'trial': 7, 'obs': array([-0.07026528, -0.79425953,  0.10457688,  1.31256895]), 'action': 0, 'step': 10, 'rew': 1.0, 'done': False, 'info': {}}\n",
      "{'trial': 7, 'obs': array([-0.08615048, -0.99053841,  0.13082826,  1.6360684 ]), 'action': 0, 'step': 11, 'rew': 1.0, 'done': False, 'info': {}}\n",
      "{'trial': 7, 'obs': array([-0.10596124, -0.79717151,  0.16354962,  1.38685064]), 'action': 1, 'step': 12, 'rew': 1.0, 'done': False, 'info': {}}\n",
      "{'trial': 7, 'obs': array([-0.12190467, -0.60442187,  0.19128664,  1.14945391]), 'action': 1, 'step': 13, 'rew': 1.0, 'done': False, 'info': {}}\n",
      "{'trial': 8, 'obs': array([ 0.04610212,  0.03982895, -0.00621499, -0.04594987]), 'action': None, 'step': 0, 'rew': 1.0, 'done': True, 'info': {}}\n",
      "{'trial': 8, 'obs': array([ 0.0468987 ,  0.23503946, -0.00713399, -0.34058719]), 'action': 1, 'step': 1, 'rew': 1.0, 'done': False, 'info': {}}\n",
      "{'trial': 8, 'obs': array([ 0.05159948,  0.43026219, -0.01394573, -0.6355112 ]), 'action': 1, 'step': 2, 'rew': 1.0, 'done': False, 'info': {}}\n",
      "{'trial': 8, 'obs': array([ 0.06020473,  0.23533749, -0.02665595, -0.3472525 ]), 'action': 0, 'step': 3, 'rew': 1.0, 'done': False, 'info': {}}\n",
      "{'trial': 8, 'obs': array([ 0.06491148,  0.43082825, -0.033601  , -0.64822039]), 'action': 1, 'step': 4, 'rew': 1.0, 'done': False, 'info': {}}\n",
      "{'trial': 8, 'obs': array([ 0.07352804,  0.62640181, -0.04656541, -0.95129196]), 'action': 1, 'step': 5, 'rew': 1.0, 'done': False, 'info': {}}\n",
      "{'trial': 8, 'obs': array([ 0.08605608,  0.82211848, -0.06559125, -1.25823403]), 'action': 1, 'step': 6, 'rew': 1.0, 'done': False, 'info': {}}\n",
      "{'trial': 8, 'obs': array([ 0.10249845,  0.62789433, -0.09075593, -0.98679428]), 'action': 0, 'step': 7, 'rew': 1.0, 'done': False, 'info': {}}\n",
      "{'trial': 8, 'obs': array([ 0.11505634,  0.82410669, -0.11049182, -1.30654718]), 'action': 1, 'step': 8, 'rew': 1.0, 'done': False, 'info': {}}\n",
      "{'trial': 8, 'obs': array([ 0.13153847,  1.02044207, -0.13662276, -1.63167291]), 'action': 1, 'step': 9, 'rew': 1.0, 'done': False, 'info': {}}\n",
      "{'trial': 8, 'obs': array([ 0.15194731,  0.82716377, -0.16925622, -1.38449927]), 'action': 0, 'step': 10, 'rew': 1.0, 'done': False, 'info': {}}\n",
      "{'trial': 8, 'obs': array([ 0.16849059,  0.63450809, -0.1969462 , -1.14916931]), 'action': 0, 'step': 11, 'rew': 1.0, 'done': False, 'info': {}}\n",
      "{'trial': 9, 'obs': array([-0.01053557,  0.01355685,  0.01234621,  0.01814145]), 'action': None, 'step': 0, 'rew': 1.0, 'done': True, 'info': {}}\n",
      "{'trial': 9, 'obs': array([-0.01026443,  0.20849958,  0.01270904, -0.27062067]), 'action': 1, 'step': 1, 'rew': 1.0, 'done': False, 'info': {}}\n",
      "{'trial': 9, 'obs': array([-0.00609444,  0.0131986 ,  0.00729663,  0.0260435 ]), 'action': 0, 'step': 2, 'rew': 1.0, 'done': False, 'info': {}}\n",
      "{'trial': 9, 'obs': array([-0.00583047, -0.18202722,  0.0078175 ,  0.32101963]), 'action': 0, 'step': 3, 'rew': 1.0, 'done': False, 'info': {}}\n",
      "{'trial': 9, 'obs': array([-0.00947101,  0.01298253,  0.01423789,  0.03081226]), 'action': 1, 'step': 4, 'rew': 1.0, 'done': False, 'info': {}}\n",
      "{'trial': 9, 'obs': array([-0.00921136, -0.18234068,  0.01485413,  0.32795317]), 'action': 0, 'step': 5, 'rew': 1.0, 'done': False, 'info': {}}\n",
      "{'trial': 9, 'obs': array([-0.01285817,  0.01256669,  0.0214132 ,  0.03999133]), 'action': 1, 'step': 6, 'rew': 1.0, 'done': False, 'info': {}}\n",
      "{'trial': 9, 'obs': array([-0.01260684, -0.18285568,  0.02221302,  0.33935267]), 'action': 0, 'step': 7, 'rew': 1.0, 'done': False, 'info': {}}\n",
      "{'trial': 9, 'obs': array([-0.01626395,  0.01194328,  0.02900008,  0.05375642]), 'action': 1, 'step': 8, 'rew': 1.0, 'done': False, 'info': {}}\n",
      "{'trial': 9, 'obs': array([-0.01602509, -0.18358223,  0.03007521,  0.3554462 ]), 'action': 0, 'step': 9, 'rew': 1.0, 'done': False, 'info': {}}\n",
      "{'trial': 9, 'obs': array([-0.01969673, -0.3791186 ,  0.03718413,  0.65745889]), 'action': 0, 'step': 10, 'rew': 1.0, 'done': False, 'info': {}}\n",
      "{'trial': 9, 'obs': array([-0.0272791 , -0.18453344,  0.05033331,  0.37671252]), 'action': 1, 'step': 11, 'rew': 1.0, 'done': False, 'info': {}}\n",
      "{'trial': 9, 'obs': array([-0.03096977, -0.38033279,  0.05786756,  0.68483134]), 'action': 0, 'step': 12, 'rew': 1.0, 'done': False, 'info': {}}\n",
      "{'trial': 9, 'obs': array([-0.03857643, -0.57620839,  0.07156419,  0.99515651]), 'action': 0, 'step': 13, 'rew': 1.0, 'done': False, 'info': {}}\n",
      "{'trial': 9, 'obs': array([-0.0501006 , -0.77221077,  0.09146732,  1.30942945]), 'action': 0, 'step': 14, 'rew': 1.0, 'done': False, 'info': {}}\n",
      "{'trial': 9, 'obs': array([-0.06554481, -0.57835884,  0.1176559 ,  1.04672097]), 'action': 1, 'step': 15, 'rew': 1.0, 'done': False, 'info': {}}\n",
      "{'trial': 9, 'obs': array([-0.07711199, -0.38497821,  0.13859032,  0.79316652]), 'action': 1, 'step': 16, 'rew': 1.0, 'done': False, 'info': {}}\n",
      "{'trial': 9, 'obs': array([-0.08481155, -0.19200318,  0.15445365,  0.54709467]), 'action': 1, 'step': 17, 'rew': 1.0, 'done': False, 'info': {}}\n",
      "{'trial': 9, 'obs': array([-0.08865162, -0.38891924,  0.16539555,  0.88418158]), 'action': 0, 'step': 18, 'rew': 1.0, 'done': False, 'info': {}}\n",
      "{'trial': 9, 'obs': array([-0.09643   , -0.585854  ,  0.18307918,  1.22395735]), 'action': 0, 'step': 19, 'rew': 1.0, 'done': False, 'info': {}}\n",
      "{'trial': 9, 'obs': array([-0.10814708, -0.39349981,  0.20755833,  0.99377318]), 'action': 1, 'step': 20, 'rew': 1.0, 'done': False, 'info': {}}\n",
      "{'trial': 10, 'obs': array([-0.04856971,  0.01377164, -0.03623431, -0.00693289]), 'action': None, 'step': 0, 'rew': 1.0, 'done': True, 'info': {}}\n",
      "{'trial': 10, 'obs': array([-0.04829428,  0.20939401, -0.03637296, -0.31082438]), 'action': 1, 'step': 1, 'rew': 1.0, 'done': False, 'info': {}}\n",
      "{'trial': 10, 'obs': array([-0.0441064 ,  0.01480864, -0.04258945, -0.02983068]), 'action': 0, 'step': 2, 'rew': 1.0, 'done': False, 'info': {}}\n",
      "{'trial': 10, 'obs': array([-0.04381022,  0.21051465, -0.04318606, -0.33564101]), 'action': 1, 'step': 3, 'rew': 1.0, 'done': False, 'info': {}}\n",
      "{'trial': 10, 'obs': array([-0.03959993,  0.01603306, -0.04989888, -0.05688338]), 'action': 0, 'step': 4, 'rew': 1.0, 'done': False, 'info': {}}\n",
      "{'trial': 10, 'obs': array([-0.03927927,  0.21183365, -0.05103655, -0.36488287]), 'action': 1, 'step': 5, 'rew': 1.0, 'done': False, 'info': {}}\n",
      "{'trial': 10, 'obs': array([-0.0350426 ,  0.01747275, -0.05833421, -0.08871937]), 'action': 0, 'step': 6, 'rew': 1.0, 'done': False, 'info': {}}\n",
      "{'trial': 10, 'obs': array([-0.03469314,  0.21338023, -0.0601086 , -0.39922128]), 'action': 1, 'step': 7, 'rew': 1.0, 'done': False, 'info': {}}\n",
      "{'trial': 10, 'obs': array([-0.03042554,  0.40930108, -0.06809302, -0.7102331 ]), 'action': 1, 'step': 8, 'rew': 1.0, 'done': False, 'info': {}}\n",
      "{'trial': 10, 'obs': array([-0.02223952,  0.60529669, -0.08229768, -1.02354908]), 'action': 1, 'step': 9, 'rew': 1.0, 'done': False, 'info': {}}\n",
      "{'trial': 10, 'obs': array([-0.01013358,  0.41136156, -0.10276867, -0.75779918]), 'action': 0, 'step': 10, 'rew': 1.0, 'done': False, 'info': {}}\n",
      "{'trial': 10, 'obs': array([-0.00190635,  0.60773831, -0.11792465, -1.08097099]), 'action': 1, 'step': 11, 'rew': 1.0, 'done': False, 'info': {}}\n",
      "{'trial': 10, 'obs': array([ 0.01024842,  0.80420273, -0.13954407, -1.40821049]), 'action': 1, 'step': 12, 'rew': 1.0, 'done': False, 'info': {}}\n",
      "{'trial': 10, 'obs': array([ 0.02633247,  0.61106048, -0.16770828, -1.1622062 ]), 'action': 0, 'step': 13, 'rew': 1.0, 'done': False, 'info': {}}\n",
      "{'trial': 10, 'obs': array([ 0.03855368,  0.80792144, -0.1909524 , -1.50243011]), 'action': 1, 'step': 14, 'rew': 1.0, 'done': False, 'info': {}}\n"
     ]
    }
   ],
   "source": [
    "scientist.conduct(experiment,env,random_agent)"
   ]
  },
  {
   "cell_type": "code",
   "execution_count": null,
   "metadata": {},
   "outputs": [],
   "source": []
  },
  {
   "cell_type": "code",
   "execution_count": null,
   "metadata": {},
   "outputs": [],
   "source": []
  }
 ],
 "metadata": {
  "kernelspec": {
   "display_name": "Python 3",
   "language": "python",
   "name": "python3"
  },
  "language_info": {
   "codemirror_mode": {
    "name": "ipython",
    "version": 3
   },
   "file_extension": ".py",
   "mimetype": "text/x-python",
   "name": "python",
   "nbconvert_exporter": "python",
   "pygments_lexer": "ipython3",
   "version": "3.7.3"
  }
 },
 "nbformat": 4,
 "nbformat_minor": 2
}
