{
 "cells": [
  {
   "cell_type": "code",
   "execution_count": 44,
   "metadata": {},
   "outputs": [],
   "source": [
    "import gym"
   ]
  },
  {
   "cell_type": "code",
   "execution_count": 45,
   "metadata": {},
   "outputs": [],
   "source": [
    "env = gym.make('CartPole-v1')"
   ]
  },
  {
   "cell_type": "code",
   "execution_count": 46,
   "metadata": {},
   "outputs": [
    {
     "data": {
      "text/plain": [
       "Discrete(2)"
      ]
     },
     "execution_count": 46,
     "metadata": {},
     "output_type": "execute_result"
    }
   ],
   "source": [
    "env.action_space"
   ]
  },
  {
   "cell_type": "code",
   "execution_count": 47,
   "metadata": {},
   "outputs": [
    {
     "name": "stdout",
     "output_type": "stream",
     "text": [
      "Help on Discrete in module gym.spaces.discrete object:\n",
      "\n",
      "class Discrete(gym.spaces.space.Space)\n",
      " |  Discrete(n)\n",
      " |  \n",
      " |  A discrete space in :math:`\\{ 0, 1, \\\\dots, n-1 \\}`. \n",
      " |  \n",
      " |  Example::\n",
      " |  \n",
      " |      >>> Discrete(2)\n",
      " |  \n",
      " |  Method resolution order:\n",
      " |      Discrete\n",
      " |      gym.spaces.space.Space\n",
      " |      builtins.object\n",
      " |  \n",
      " |  Methods defined here:\n",
      " |  \n",
      " |  __eq__(self, other)\n",
      " |      Return self==value.\n",
      " |  \n",
      " |  __init__(self, n)\n",
      " |      Initialize self.  See help(type(self)) for accurate signature.\n",
      " |  \n",
      " |  __repr__(self)\n",
      " |      Return repr(self).\n",
      " |  \n",
      " |  contains(self, x)\n",
      " |      Return boolean specifying if x is a valid\n",
      " |      member of this space\n",
      " |  \n",
      " |  sample(self)\n",
      " |      Randomly sample an element of this space. Can be \n",
      " |      uniform or non-uniform sampling based on boundedness of space.\n",
      " |  \n",
      " |  ----------------------------------------------------------------------\n",
      " |  Data and other attributes defined here:\n",
      " |  \n",
      " |  __hash__ = None\n",
      " |  \n",
      " |  ----------------------------------------------------------------------\n",
      " |  Methods inherited from gym.spaces.space.Space:\n",
      " |  \n",
      " |  __contains__(self, x)\n",
      " |  \n",
      " |  from_jsonable(self, sample_n)\n",
      " |      Convert a JSONable data type to a batch of samples from this space.\n",
      " |  \n",
      " |  seed(self, seed=None)\n",
      " |      Seed the PRNG of this space.\n",
      " |  \n",
      " |  to_jsonable(self, sample_n)\n",
      " |      Convert a batch of samples from this space to a JSONable data type.\n",
      " |  \n",
      " |  ----------------------------------------------------------------------\n",
      " |  Data descriptors inherited from gym.spaces.space.Space:\n",
      " |  \n",
      " |  __dict__\n",
      " |      dictionary for instance variables (if defined)\n",
      " |  \n",
      " |  __weakref__\n",
      " |      list of weak references to the object (if defined)\n",
      "\n"
     ]
    }
   ],
   "source": [
    "help(env.action_space)"
   ]
  },
  {
   "cell_type": "code",
   "execution_count": 48,
   "metadata": {},
   "outputs": [
    {
     "data": {
      "text/plain": [
       "2"
      ]
     },
     "execution_count": 48,
     "metadata": {},
     "output_type": "execute_result"
    }
   ],
   "source": [
    "env.action_space.n"
   ]
  },
  {
   "cell_type": "code",
   "execution_count": 49,
   "metadata": {},
   "outputs": [
    {
     "data": {
      "text/plain": [
       "Box(4,)"
      ]
     },
     "execution_count": 49,
     "metadata": {},
     "output_type": "execute_result"
    }
   ],
   "source": [
    "env.observation_space"
   ]
  },
  {
   "cell_type": "code",
   "execution_count": 13,
   "metadata": {},
   "outputs": [
    {
     "name": "stdout",
     "output_type": "stream",
     "text": [
      "Help on Box in module gym.spaces.box object:\n",
      "\n",
      "class Box(gym.spaces.space.Space)\n",
      " |  Box(low, high, shape=None, dtype=<class 'numpy.float32'>)\n",
      " |  \n",
      " |  A (possibly unbounded) box in R^n. Specifically, a Box represents the\n",
      " |  Cartesian product of n closed intervals. Each interval has the form of one\n",
      " |  of [a, b], (-oo, b], [a, oo), or (-oo, oo).\n",
      " |  \n",
      " |  There are two common use cases:\n",
      " |  \n",
      " |  * Identical bound for each dimension::\n",
      " |      >>> Box(low=-1.0, high=2.0, shape=(3, 4), dtype=np.float32)\n",
      " |      Box(3, 4)\n",
      " |      \n",
      " |  * Independent bound for each dimension::\n",
      " |      >>> Box(low=np.array([-1.0, -2.0]), high=np.array([2.0, 4.0]), dtype=np.float32)\n",
      " |      Box(2,)\n",
      " |  \n",
      " |  Method resolution order:\n",
      " |      Box\n",
      " |      gym.spaces.space.Space\n",
      " |      builtins.object\n",
      " |  \n",
      " |  Methods defined here:\n",
      " |  \n",
      " |  __eq__(self, other)\n",
      " |      Return self==value.\n",
      " |  \n",
      " |  __init__(self, low, high, shape=None, dtype=<class 'numpy.float32'>)\n",
      " |      Initialize self.  See help(type(self)) for accurate signature.\n",
      " |  \n",
      " |  __repr__(self)\n",
      " |      Return repr(self).\n",
      " |  \n",
      " |  contains(self, x)\n",
      " |      Return boolean specifying if x is a valid\n",
      " |      member of this space\n",
      " |  \n",
      " |  from_jsonable(self, sample_n)\n",
      " |      Convert a JSONable data type to a batch of samples from this space.\n",
      " |  \n",
      " |  is_bounded(self, manner='both')\n",
      " |  \n",
      " |  sample(self)\n",
      " |      Generates a single random sample inside of the Box. \n",
      " |      \n",
      " |      In creating a sample of the box, each coordinate is sampled according to\n",
      " |      the form of the interval:\n",
      " |      \n",
      " |      * [a, b] : uniform distribution \n",
      " |      * [a, oo) : shifted exponential distribution\n",
      " |      * (-oo, b] : shifted negative exponential distribution\n",
      " |      * (-oo, oo) : normal distribution\n",
      " |  \n",
      " |  to_jsonable(self, sample_n)\n",
      " |      Convert a batch of samples from this space to a JSONable data type.\n",
      " |  \n",
      " |  ----------------------------------------------------------------------\n",
      " |  Data and other attributes defined here:\n",
      " |  \n",
      " |  __hash__ = None\n",
      " |  \n",
      " |  ----------------------------------------------------------------------\n",
      " |  Methods inherited from gym.spaces.space.Space:\n",
      " |  \n",
      " |  __contains__(self, x)\n",
      " |  \n",
      " |  seed(self, seed=None)\n",
      " |      Seed the PRNG of this space.\n",
      " |  \n",
      " |  ----------------------------------------------------------------------\n",
      " |  Data descriptors inherited from gym.spaces.space.Space:\n",
      " |  \n",
      " |  __dict__\n",
      " |      dictionary for instance variables (if defined)\n",
      " |  \n",
      " |  __weakref__\n",
      " |      list of weak references to the object (if defined)\n",
      "\n"
     ]
    }
   ],
   "source": [
    "help(env.observation_space)"
   ]
  },
  {
   "cell_type": "code",
   "execution_count": 30,
   "metadata": {},
   "outputs": [
    {
     "data": {
      "text/plain": [
       "(4,)"
      ]
     },
     "execution_count": 30,
     "metadata": {},
     "output_type": "execute_result"
    }
   ],
   "source": [
    "env.observation_space.shape"
   ]
  },
  {
   "cell_type": "code",
   "execution_count": 31,
   "metadata": {},
   "outputs": [
    {
     "data": {
      "text/plain": [
       "array([4.8000002e+00, 3.4028235e+38, 4.1887903e-01, 3.4028235e+38],\n",
       "      dtype=float32)"
      ]
     },
     "execution_count": 31,
     "metadata": {},
     "output_type": "execute_result"
    }
   ],
   "source": [
    "env.observation_space.high"
   ]
  },
  {
   "cell_type": "code",
   "execution_count": 32,
   "metadata": {},
   "outputs": [
    {
     "data": {
      "text/plain": [
       "array([-4.8000002e+00, -3.4028235e+38, -4.1887903e-01, -3.4028235e+38],\n",
       "      dtype=float32)"
      ]
     },
     "execution_count": 32,
     "metadata": {},
     "output_type": "execute_result"
    }
   ],
   "source": [
    "env.observation_space.low"
   ]
  },
  {
   "cell_type": "code",
   "execution_count": 33,
   "metadata": {},
   "outputs": [
    {
     "data": {
      "text/plain": [
       "1"
      ]
     },
     "execution_count": 33,
     "metadata": {},
     "output_type": "execute_result"
    }
   ],
   "source": [
    "len(env.observation_space.shape)"
   ]
  },
  {
   "cell_type": "code",
   "execution_count": 34,
   "metadata": {},
   "outputs": [],
   "source": [
    "observation_space_dimention = len(env.observation_space.shape)"
   ]
  },
  {
   "cell_type": "code",
   "execution_count": 73,
   "metadata": {},
   "outputs": [],
   "source": [
    "class Experiment:\n",
    "    pass\n",
    "\n",
    "class Trial:\n",
    "    pass\n",
    "\n",
    "class Observation:\n",
    "    pass\n",
    "\n",
    "class Action:\n",
    "    pass\n",
    "\n",
    "class Variable:\n",
    "    pass\n",
    "\n",
    "class Agent:\n",
    "    current_environment = None\n",
    "    current_polocy = None\n",
    "    name = None\n",
    "\n",
    "    def __init__(self, name, env=None, *arg, **kwargs):\n",
    "        self.name = name\n",
    "        self.current_environment = env\n",
    "\n",
    "    @property\n",
    "    def action_space(self):\n",
    "        return self.current_environment.action_space\n",
    "    \n",
    "    @property\n",
    "    def observation_space(self):\n",
    "        return self.current_environment.observation_space\n",
    "        \n",
    "    def interact_with(self, env):\n",
    "        self.set_environment(env)\n",
    "\n",
    "    def set_environment(self, env):\n",
    "        self.current_environment = env\n",
    "\n",
    "    def set_polocy(self, polocy):\n",
    "        self.current_polocy = polocy\n",
    "    \n",
    "    def policy(self, observation):\n",
    "        # Return an action\n",
    "        action = self.current_polocy(observation)\n",
    "        return action\n",
    "\n",
    "\n",
    "class Polocy:\n",
    "    env = None\n",
    "    name = None\n",
    "\n",
    "    def __init__(self, env, name):\n",
    "        self.name = name\n",
    "        self.env = env\n",
    "\n",
    "    def __call__(self, observation):\n",
    "        return self.get_action(observation)\n",
    "    \n",
    "    def __eq__(self,other):\n",
    "        return (self.env == other.env) and (self.name == other.name)\n",
    "\n",
    "    @property\n",
    "    def action_space(self):\n",
    "        return self.env.action_space\n",
    "    \n",
    "    def get_action(self, observation,*args,**kwargs):\n",
    "        pass\n",
    "\n",
    "    \n",
    "class RandomPolocy(Polocy):\n",
    "    seed = None\n",
    "\n",
    "    def __init__(self, env, name='random', seed=None):\n",
    "        self.env = env\n",
    "        self.name = name\n",
    "        self.seed = seed\n",
    "    \n",
    "    def get_action(self, observation):\n",
    "        random_action = self.action_space.sample()\n",
    "        return random_action \n",
    "\n",
    "class RandomAgent(Agent):\n",
    "    seed = None\n",
    "\n",
    "    def __init__(self, name='random', seed=None, env=None):\n",
    "        self.seed = seed\n",
    "        if env:\n",
    "            self.interact_with(env)\n",
    "            self.set_polocy()\n",
    "\n",
    "    def set_polocy(self):\n",
    "        self.current_polocy = RandomPolocy(env=self.current_environment,name=self.name,seed=self.seed)\n",
    "\n",
    "        \n",
    "class Environment:\n",
    "    action_space = None\n",
    "    observation_space = None\n",
    "\n",
    "    "
   ]
  },
  {
   "cell_type": "code",
   "execution_count": 71,
   "metadata": {},
   "outputs": [],
   "source": [
    "random_agent = RandomAgent(env=env)"
   ]
  },
  {
   "cell_type": "code",
   "execution_count": 67,
   "metadata": {},
   "outputs": [],
   "source": []
  },
  {
   "cell_type": "code",
   "execution_count": 68,
   "metadata": {},
   "outputs": [],
   "source": []
  },
  {
   "cell_type": "code",
   "execution_count": 74,
   "metadata": {},
   "outputs": [
    {
     "data": {
      "text/plain": [
       "<__main__.RandomAgent at 0x7f0b3ce3cc50>"
      ]
     },
     "execution_count": 74,
     "metadata": {},
     "output_type": "execute_result"
    }
   ],
   "source": [
    "random_agent"
   ]
  },
  {
   "cell_type": "code",
   "execution_count": null,
   "metadata": {},
   "outputs": [],
   "source": []
  }
 ],
 "metadata": {
  "kernelspec": {
   "display_name": "Python 3",
   "language": "python",
   "name": "python3"
  },
  "language_info": {
   "codemirror_mode": {
    "name": "ipython",
    "version": 3
   },
   "file_extension": ".py",
   "mimetype": "text/x-python",
   "name": "python",
   "nbconvert_exporter": "python",
   "pygments_lexer": "ipython3",
   "version": "3.7.3"
  }
 },
 "nbformat": 4,
 "nbformat_minor": 2
}
