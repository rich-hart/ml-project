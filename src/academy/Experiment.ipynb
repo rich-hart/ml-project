{
 "cells": [
  {
   "cell_type": "code",
   "execution_count": 1,
   "metadata": {},
   "outputs": [],
   "source": [
    "import gym\n",
    "from datetime import datetime"
   ]
  },
  {
   "cell_type": "code",
   "execution_count": 2,
   "metadata": {},
   "outputs": [],
   "source": [
    "env = gym.make('CartPole-v1')"
   ]
  },
  {
   "cell_type": "code",
   "execution_count": 3,
   "metadata": {},
   "outputs": [
    {
     "data": {
      "text/plain": [
       "Discrete(2)"
      ]
     },
     "execution_count": 3,
     "metadata": {},
     "output_type": "execute_result"
    }
   ],
   "source": [
    "env.action_space"
   ]
  },
  {
   "cell_type": "code",
   "execution_count": 4,
   "metadata": {},
   "outputs": [
    {
     "name": "stdout",
     "output_type": "stream",
     "text": [
      "Help on Discrete in module gym.spaces.discrete object:\n",
      "\n",
      "class Discrete(gym.spaces.space.Space)\n",
      " |  Discrete(n)\n",
      " |  \n",
      " |  A discrete space in :math:`\\{ 0, 1, \\\\dots, n-1 \\}`. \n",
      " |  \n",
      " |  Example::\n",
      " |  \n",
      " |      >>> Discrete(2)\n",
      " |  \n",
      " |  Method resolution order:\n",
      " |      Discrete\n",
      " |      gym.spaces.space.Space\n",
      " |      builtins.object\n",
      " |  \n",
      " |  Methods defined here:\n",
      " |  \n",
      " |  __eq__(self, other)\n",
      " |      Return self==value.\n",
      " |  \n",
      " |  __init__(self, n)\n",
      " |      Initialize self.  See help(type(self)) for accurate signature.\n",
      " |  \n",
      " |  __repr__(self)\n",
      " |      Return repr(self).\n",
      " |  \n",
      " |  contains(self, x)\n",
      " |      Return boolean specifying if x is a valid\n",
      " |      member of this space\n",
      " |  \n",
      " |  sample(self)\n",
      " |      Randomly sample an element of this space. Can be \n",
      " |      uniform or non-uniform sampling based on boundedness of space.\n",
      " |  \n",
      " |  ----------------------------------------------------------------------\n",
      " |  Data and other attributes defined here:\n",
      " |  \n",
      " |  __hash__ = None\n",
      " |  \n",
      " |  ----------------------------------------------------------------------\n",
      " |  Methods inherited from gym.spaces.space.Space:\n",
      " |  \n",
      " |  __contains__(self, x)\n",
      " |  \n",
      " |  from_jsonable(self, sample_n)\n",
      " |      Convert a JSONable data type to a batch of samples from this space.\n",
      " |  \n",
      " |  seed(self, seed=None)\n",
      " |      Seed the PRNG of this space.\n",
      " |  \n",
      " |  to_jsonable(self, sample_n)\n",
      " |      Convert a batch of samples from this space to a JSONable data type.\n",
      " |  \n",
      " |  ----------------------------------------------------------------------\n",
      " |  Data descriptors inherited from gym.spaces.space.Space:\n",
      " |  \n",
      " |  __dict__\n",
      " |      dictionary for instance variables (if defined)\n",
      " |  \n",
      " |  __weakref__\n",
      " |      list of weak references to the object (if defined)\n",
      "\n"
     ]
    }
   ],
   "source": [
    "help(env.action_space)"
   ]
  },
  {
   "cell_type": "code",
   "execution_count": 5,
   "metadata": {},
   "outputs": [
    {
     "data": {
      "text/plain": [
       "2"
      ]
     },
     "execution_count": 5,
     "metadata": {},
     "output_type": "execute_result"
    }
   ],
   "source": [
    "env.action_space.n"
   ]
  },
  {
   "cell_type": "code",
   "execution_count": 6,
   "metadata": {},
   "outputs": [
    {
     "data": {
      "text/plain": [
       "Box(4,)"
      ]
     },
     "execution_count": 6,
     "metadata": {},
     "output_type": "execute_result"
    }
   ],
   "source": [
    "env.observation_space"
   ]
  },
  {
   "cell_type": "code",
   "execution_count": 7,
   "metadata": {},
   "outputs": [
    {
     "name": "stdout",
     "output_type": "stream",
     "text": [
      "Help on Box in module gym.spaces.box object:\n",
      "\n",
      "class Box(gym.spaces.space.Space)\n",
      " |  Box(low, high, shape=None, dtype=<class 'numpy.float32'>)\n",
      " |  \n",
      " |  A (possibly unbounded) box in R^n. Specifically, a Box represents the\n",
      " |  Cartesian product of n closed intervals. Each interval has the form of one\n",
      " |  of [a, b], (-oo, b], [a, oo), or (-oo, oo).\n",
      " |  \n",
      " |  There are two common use cases:\n",
      " |  \n",
      " |  * Identical bound for each dimension::\n",
      " |      >>> Box(low=-1.0, high=2.0, shape=(3, 4), dtype=np.float32)\n",
      " |      Box(3, 4)\n",
      " |      \n",
      " |  * Independent bound for each dimension::\n",
      " |      >>> Box(low=np.array([-1.0, -2.0]), high=np.array([2.0, 4.0]), dtype=np.float32)\n",
      " |      Box(2,)\n",
      " |  \n",
      " |  Method resolution order:\n",
      " |      Box\n",
      " |      gym.spaces.space.Space\n",
      " |      builtins.object\n",
      " |  \n",
      " |  Methods defined here:\n",
      " |  \n",
      " |  __eq__(self, other)\n",
      " |      Return self==value.\n",
      " |  \n",
      " |  __init__(self, low, high, shape=None, dtype=<class 'numpy.float32'>)\n",
      " |      Initialize self.  See help(type(self)) for accurate signature.\n",
      " |  \n",
      " |  __repr__(self)\n",
      " |      Return repr(self).\n",
      " |  \n",
      " |  contains(self, x)\n",
      " |      Return boolean specifying if x is a valid\n",
      " |      member of this space\n",
      " |  \n",
      " |  from_jsonable(self, sample_n)\n",
      " |      Convert a JSONable data type to a batch of samples from this space.\n",
      " |  \n",
      " |  is_bounded(self, manner='both')\n",
      " |  \n",
      " |  sample(self)\n",
      " |      Generates a single random sample inside of the Box. \n",
      " |      \n",
      " |      In creating a sample of the box, each coordinate is sampled according to\n",
      " |      the form of the interval:\n",
      " |      \n",
      " |      * [a, b] : uniform distribution \n",
      " |      * [a, oo) : shifted exponential distribution\n",
      " |      * (-oo, b] : shifted negative exponential distribution\n",
      " |      * (-oo, oo) : normal distribution\n",
      " |  \n",
      " |  to_jsonable(self, sample_n)\n",
      " |      Convert a batch of samples from this space to a JSONable data type.\n",
      " |  \n",
      " |  ----------------------------------------------------------------------\n",
      " |  Data and other attributes defined here:\n",
      " |  \n",
      " |  __hash__ = None\n",
      " |  \n",
      " |  ----------------------------------------------------------------------\n",
      " |  Methods inherited from gym.spaces.space.Space:\n",
      " |  \n",
      " |  __contains__(self, x)\n",
      " |  \n",
      " |  seed(self, seed=None)\n",
      " |      Seed the PRNG of this space.\n",
      " |  \n",
      " |  ----------------------------------------------------------------------\n",
      " |  Data descriptors inherited from gym.spaces.space.Space:\n",
      " |  \n",
      " |  __dict__\n",
      " |      dictionary for instance variables (if defined)\n",
      " |  \n",
      " |  __weakref__\n",
      " |      list of weak references to the object (if defined)\n",
      "\n"
     ]
    }
   ],
   "source": [
    "help(env.observation_space)"
   ]
  },
  {
   "cell_type": "code",
   "execution_count": 8,
   "metadata": {},
   "outputs": [
    {
     "data": {
      "text/plain": [
       "(4,)"
      ]
     },
     "execution_count": 8,
     "metadata": {},
     "output_type": "execute_result"
    }
   ],
   "source": [
    "env.observation_space.shape"
   ]
  },
  {
   "cell_type": "code",
   "execution_count": 9,
   "metadata": {},
   "outputs": [
    {
     "data": {
      "text/plain": [
       "array([4.8000002e+00, 3.4028235e+38, 4.1887903e-01, 3.4028235e+38],\n",
       "      dtype=float32)"
      ]
     },
     "execution_count": 9,
     "metadata": {},
     "output_type": "execute_result"
    }
   ],
   "source": [
    "env.observation_space.high"
   ]
  },
  {
   "cell_type": "code",
   "execution_count": 10,
   "metadata": {},
   "outputs": [
    {
     "data": {
      "text/plain": [
       "array([-4.8000002e+00, -3.4028235e+38, -4.1887903e-01, -3.4028235e+38],\n",
       "      dtype=float32)"
      ]
     },
     "execution_count": 10,
     "metadata": {},
     "output_type": "execute_result"
    }
   ],
   "source": [
    "env.observation_space.low"
   ]
  },
  {
   "cell_type": "code",
   "execution_count": 11,
   "metadata": {},
   "outputs": [
    {
     "data": {
      "text/plain": [
       "1"
      ]
     },
     "execution_count": 11,
     "metadata": {},
     "output_type": "execute_result"
    }
   ],
   "source": [
    "len(env.observation_space.shape)"
   ]
  },
  {
   "cell_type": "code",
   "execution_count": 12,
   "metadata": {},
   "outputs": [],
   "source": [
    "observation_space_dimention = len(env.observation_space.shape)"
   ]
  },
  {
   "cell_type": "code",
   "execution_count": 13,
   "metadata": {},
   "outputs": [],
   "source": [
    "\n",
    "\n",
    "class Agent:\n",
    "    current_environment = None\n",
    "    current_policy = None\n",
    "    name = None\n",
    "\n",
    "    def __init__(self, name, env=None, *arg, **kwargs):\n",
    "        self.name = name\n",
    "        self.current_environment = env\n",
    "\n",
    "    @property\n",
    "    def action_space(self):\n",
    "        return self.current_environment.action_space\n",
    "    \n",
    "    @property\n",
    "    def observation_space(self):\n",
    "        return self.current_environment.observation_space\n",
    "        \n",
    "    def interact_with(self, env):\n",
    "        self.set_environment(env)\n",
    "\n",
    "    def set_environment(self, env):\n",
    "        self.current_environment = env\n",
    "\n",
    "    def set_policy(self, policy):\n",
    "        self.current_policy = policy\n",
    "    \n",
    "    def policy(self, observation):\n",
    "        # Return an action\n",
    "        action = self.current_policy(observation)\n",
    "        return action\n",
    "\n",
    "\n",
    "class Policy:\n",
    "    env = None\n",
    "    name = None\n",
    "\n",
    "    def __init__(self, env, name):\n",
    "        self.name = name\n",
    "        self.env = env\n",
    "\n",
    "    def __call__(self, observation):\n",
    "        return self.get_action(observation)\n",
    "    \n",
    "    def __eq__(self,other):\n",
    "        return (self.env == other.env) and (self.name == other.name)\n",
    "\n",
    "    @property\n",
    "    def action_space(self):\n",
    "        return self.env.action_space\n",
    "    \n",
    "    def get_action(self, observation,*args,**kwargs):\n",
    "        pass\n",
    "\n",
    "    \n",
    "class RandomPolicy(Policy):\n",
    "    seed = None\n",
    "\n",
    "    def __init__(self, env, name='random', seed=None):\n",
    "        self.env = env\n",
    "        self.name = name\n",
    "        self.seed = seed\n",
    "    \n",
    "    def get_action(self, observation):\n",
    "        random_action = self.action_space.sample()\n",
    "        return random_action \n",
    "\n",
    "class RandomAgent(Agent):\n",
    "    seed = None\n",
    "\n",
    "    def __init__(self, name='random', env=None, seed=None,*args,**kwargs):\n",
    "        self.seed = seed\n",
    "        if env:\n",
    "            self.interact_with(env)\n",
    "            self.set_policy()\n",
    "\n",
    "    def set_policy(self):\n",
    "        self.current_policy = RandomPolicy(env=self.current_environment,name=self.name,seed=self.seed)\n"
   ]
  },
  {
   "cell_type": "code",
   "execution_count": 14,
   "metadata": {},
   "outputs": [],
   "source": [
    "random_agent = RandomAgent(env=env)"
   ]
  },
  {
   "cell_type": "code",
   "execution_count": 15,
   "metadata": {},
   "outputs": [
    {
     "data": {
      "text/plain": [
       "<__main__.RandomAgent at 0x7fa61a18f160>"
      ]
     },
     "execution_count": 15,
     "metadata": {},
     "output_type": "execute_result"
    }
   ],
   "source": [
    "random_agent"
   ]
  },
  {
   "cell_type": "code",
   "execution_count": 16,
   "metadata": {},
   "outputs": [],
   "source": [
    "random_action = random_agent.policy(env.observation_space.sample())"
   ]
  },
  {
   "cell_type": "code",
   "execution_count": 17,
   "metadata": {},
   "outputs": [
    {
     "data": {
      "text/plain": [
       "0"
      ]
     },
     "execution_count": 17,
     "metadata": {},
     "output_type": "execute_result"
    }
   ],
   "source": [
    "random_action"
   ]
  },
  {
   "cell_type": "code",
   "execution_count": 18,
   "metadata": {},
   "outputs": [],
   "source": [
    "\n",
    "\n",
    "class Database:\n",
    "    pass\n",
    "\n",
    "# Make context manager\n",
    "class Experiment:\n",
    "    description = None\n",
    "    procedure = None\n",
    "    database = None\n",
    "    start = None\n",
    "    stop = None\n",
    "    \n",
    "    _data = None\n",
    "\n",
    "    def __init__(self,desciption, procedure, database, *args,**kwargs):\n",
    "        self.desciption = desciption\n",
    "        self.procedure = procedure\n",
    "        self.database = database\n",
    "        \n",
    "        \n",
    "    def begin(self):\n",
    "        self.start = datetime.now()\n",
    "    \n",
    "    def end(self):\n",
    "        self.stop = datetime.now()\n",
    "\n",
    "class Trial:\n",
    "    pass\n",
    "\n",
    "class Language:\n",
    "    pass\n",
    "\n",
    "class Problem:\n",
    "    pass\n",
    "\n",
    "class Algorithm:\n",
    "    # _input = None\n",
    "    # _output = None\n",
    "    \n",
    "    # initialization\n",
    "    # maintainace \n",
    "    # termination\n",
    "    #@property\n",
    "    #def input(self):\n",
    "    #     pass\n",
    "    #@property\n",
    "    #def output(self):\n",
    "    #     pass\n",
    "    #def main(self):\n",
    "    #     pass\n",
    "    def solve(problem):\n",
    "        pass\n",
    "    \n",
    "class Procedure(Algorithm):\n",
    "    name = None\n",
    "    def __init__(self,*args,**kwargs):\n",
    "        pass\n",
    "\n",
    "class Conclusion:\n",
    "    pass\n",
    "\n",
    "class Hypothesis:\n",
    "    pass"
   ]
  },
  {
   "cell_type": "code",
   "execution_count": 19,
   "metadata": {},
   "outputs": [],
   "source": [
    "class Variable:\n",
    "    pass\n",
    "\n",
    "class RandomVariable:\n",
    "    pass\n",
    "\n",
    "class Observation:\n",
    "    pass\n",
    "\n",
    "class Network:\n",
    "    pass\n",
    "\n",
    "class BayesNetwork(Network):\n",
    "    pass\n",
    "\n",
    "class Knowledge(BayesNetwork):\n",
    "    pass\n",
    "\n",
    "class Engineer(Agent):\n",
    "    def create(self, *args,**kwargs):\n",
    "        # new policy?\n",
    "        pass\n",
    "\n",
    "#Procedures\n",
    "#class Material:\n",
    "#    pass\n",
    "#\n",
    "#class Tool:\n",
    "#    pass\n",
    "\n",
    "class Scientist(Agent):\n",
    "    #????\n",
    "    #def construct_hypotheses(self):\n",
    "    #    pass\n",
    "    def execute(self, procedure,*args,**kwargs):\n",
    "        pass\n",
    "    \n",
    "    def conduct(self, experiment,*args,**kwargs):\n",
    "        # execute has unknown parameters\n",
    "        self.setUp(experiment)\n",
    "        self.execute(experiment.procedure,experiment.database,*args,**kwargs)\n",
    "        self.cleanUp(experiment)\n",
    "    \n",
    "    def record(self, data, database):\n",
    "        # persist observation and actions and revant variables, constants\n",
    "        pass\n",
    "    \n",
    "    def analyze(self, data):\n",
    "        pass\n",
    "    \n",
    "    # draw conclusions ... ?? Generate bayesNetwork / Knowledge\n",
    "    def deduce(self):\n",
    "        pass\n",
    "    \n",
    "    def setUp(self, experiment):\n",
    "        experiment.begin()\n",
    "    \n",
    "    def cleanUp(self,experiment):\n",
    "        experiment.end()\n"
   ]
  },
  {
   "cell_type": "code",
   "execution_count": null,
   "metadata": {},
   "outputs": [],
   "source": []
  },
  {
   "cell_type": "code",
   "execution_count": 20,
   "metadata": {},
   "outputs": [],
   "source": [
    "#Experiment agent=Random, env = 'CartPole-v1', trials = 10, desciption=\"question: what effect does a random agent have on the CartPole-v1 enviroment?\""
   ]
  },
  {
   "cell_type": "code",
   "execution_count": 21,
   "metadata": {},
   "outputs": [],
   "source": [
    "# state_0 --> action_0 or action_1  --> state_1 -->> action_0 or action_1 --> ... --> state_n # or state_N"
   ]
  },
  {
   "cell_type": "code",
   "execution_count": 22,
   "metadata": {},
   "outputs": [],
   "source": [
    "scientist = Scientist('scientist')"
   ]
  },
  {
   "cell_type": "code",
   "execution_count": null,
   "metadata": {},
   "outputs": [],
   "source": []
  },
  {
   "cell_type": "code",
   "execution_count": 23,
   "metadata": {},
   "outputs": [],
   "source": [
    "class Node:\n",
    "    pass\n",
    "\n",
    "class Edge:\n",
    "    pass\n",
    "\n",
    "class Vertex(Node):\n",
    "    pass\n",
    "class Serializer: #SEE Django, Django RestFramework, neo4j\n",
    "    pass"
   ]
  },
  {
   "cell_type": "code",
   "execution_count": 24,
   "metadata": {},
   "outputs": [],
   "source": [
    "#NOTE:An algorithm is a procedure for solving a problem in terms of the actions to be executed and the order in which those actions are to be executed. An algorithm is merely the sequence of steps taken to solve a problem. The steps are normally \"sequence,\" \"selection, \" \"iteration,\" and a case-type statement.\n",
    "\n",
    "\n",
    "#NOTE: In C, \"sequence statements\" are imperatives. The \"selection\" is the \"if then else\" statement, and the iteration is satisfied by a number of statements, such as the \"while,\" \" do,\" and the \"for,\" while the case-type statement is satisfied by the \"switch\" statement."
   ]
  },
  {
   "cell_type": "code",
   "execution_count": 25,
   "metadata": {},
   "outputs": [],
   "source": [
    "####\n",
    "####\n",
    "# NOTE: Example Experment (Temp class definitions until I think of better ones).\n",
    "####\n",
    "####"
   ]
  },
  {
   "cell_type": "code",
   "execution_count": 44,
   "metadata": {},
   "outputs": [],
   "source": [
    "class ExampleScientist(Scientist):\n",
    "    def execute(self, procedure, database, env, subject, *args,**kwargs):\n",
    "        procedure.run(env=env,subject=subject,scientist=self,database=database, *args, **kwargs)\n",
    "    \n",
    "    def record(self, data, database):\n",
    "        pass\n",
    "    \n",
    "    def analyze(self, data):\n",
    "        pass\n",
    "\n",
    "class ExampleProcedure(Procedure):\n",
    "    def __init__(self, name, trials=10, steps=1000, *args,**kwargs):\n",
    "        self.name = name\n",
    "        self.trials = trials\n",
    "        self.steps = steps\n",
    "    \n",
    "    def run(self, env, subject, scientist, database, *args,**kwargs):\n",
    "        data = {\n",
    "            'trial':None,\n",
    "            'obs':None,\n",
    "            'action':None,\n",
    "            'step':None,\n",
    "            'rew':None,\n",
    "            'done':None,\n",
    "            'info':None,\n",
    "        }\n",
    "        \n",
    "        for trial in range(self.trials):\n",
    "            data['trial'] = trial\n",
    "            obs = env.reset()\n",
    "            action = None\n",
    "            for step in range(self.steps):\n",
    "                data['obs'] = obs\n",
    "                data['action'] = action\n",
    "                data['step'] = step\n",
    "                scientist.record(data,database)\n",
    "                action = subject.policy(obs)\n",
    "                obs, rew, done, info = env.step(action)\n",
    "                data['rew'] = rew\n",
    "                data['done'] = done\n",
    "                data['info'] = info\n",
    "        env.close()\n",
    "        \n",
    "#import gym\n",
    "#env = gym.make('CartPole-v0')\n",
    "#env.reset()\n",
    "#for _ in range(1000):\n",
    "#    env.render()\n",
    "#    env.step(env.action_space.sample()) # take a random action\n",
    "#env.close()\n",
    "class ExampleExperiment(Experiment):\n",
    "    pass\n",
    "\n",
    "class ExampleDatabase(Database):\n",
    "    pass"
   ]
  },
  {
   "cell_type": "code",
   "execution_count": 37,
   "metadata": {},
   "outputs": [],
   "source": [
    "env.close()"
   ]
  },
  {
   "cell_type": "code",
   "execution_count": null,
   "metadata": {},
   "outputs": [],
   "source": []
  },
  {
   "cell_type": "code",
   "execution_count": 45,
   "metadata": {},
   "outputs": [],
   "source": [
    "database = ExampleDatabase()\n",
    "procedure = ExampleProcedure('example')\n",
    "desciption = \"question: what effect does a random agent have on the CartPole-v1 enviroment?\"\n",
    "experiment = ExampleExperiment(desciption=desciption,procedure=procedure,database=database)\n",
    "env = gym.make('CartPole-v1')\n",
    "random_agent = RandomAgent(env=env)\n",
    "scientist = ExampleScientist('example')\n"
   ]
  },
  {
   "cell_type": "code",
   "execution_count": 43,
   "metadata": {},
   "outputs": [
    {
     "ename": "NameError",
     "evalue": "name 'date' is not defined",
     "output_type": "error",
     "traceback": [
      "\u001b[0;31m---------------------------------------------------------------------------\u001b[0m",
      "\u001b[0;31mNameError\u001b[0m                                 Traceback (most recent call last)",
      "\u001b[0;32m<ipython-input-43-b63f3dd12781>\u001b[0m in \u001b[0;36m<module>\u001b[0;34m\u001b[0m\n\u001b[0;32m----> 1\u001b[0;31m \u001b[0mscientist\u001b[0m\u001b[0;34m.\u001b[0m\u001b[0mconduct\u001b[0m\u001b[0;34m(\u001b[0m\u001b[0mexperiment\u001b[0m\u001b[0;34m,\u001b[0m\u001b[0menv\u001b[0m\u001b[0;34m,\u001b[0m\u001b[0mrandom_agent\u001b[0m\u001b[0;34m)\u001b[0m\u001b[0;34m\u001b[0m\u001b[0;34m\u001b[0m\u001b[0m\n\u001b[0m",
      "\u001b[0;32m<ipython-input-19-5d9ccb5ea934>\u001b[0m in \u001b[0;36mconduct\u001b[0;34m(self, experiment, *args, **kwargs)\u001b[0m\n\u001b[1;32m     39\u001b[0m         \u001b[0;31m# execute has unknown parameters\u001b[0m\u001b[0;34m\u001b[0m\u001b[0;34m\u001b[0m\u001b[0;34m\u001b[0m\u001b[0m\n\u001b[1;32m     40\u001b[0m         \u001b[0mself\u001b[0m\u001b[0;34m.\u001b[0m\u001b[0msetUp\u001b[0m\u001b[0;34m(\u001b[0m\u001b[0mexperiment\u001b[0m\u001b[0;34m)\u001b[0m\u001b[0;34m\u001b[0m\u001b[0;34m\u001b[0m\u001b[0m\n\u001b[0;32m---> 41\u001b[0;31m         \u001b[0mself\u001b[0m\u001b[0;34m.\u001b[0m\u001b[0mexecute\u001b[0m\u001b[0;34m(\u001b[0m\u001b[0mexperiment\u001b[0m\u001b[0;34m.\u001b[0m\u001b[0mprocedure\u001b[0m\u001b[0;34m,\u001b[0m\u001b[0mexperiment\u001b[0m\u001b[0;34m.\u001b[0m\u001b[0mdatabase\u001b[0m\u001b[0;34m,\u001b[0m\u001b[0;34m*\u001b[0m\u001b[0margs\u001b[0m\u001b[0;34m,\u001b[0m\u001b[0;34m**\u001b[0m\u001b[0mkwargs\u001b[0m\u001b[0;34m)\u001b[0m\u001b[0;34m\u001b[0m\u001b[0;34m\u001b[0m\u001b[0m\n\u001b[0m\u001b[1;32m     42\u001b[0m         \u001b[0mself\u001b[0m\u001b[0;34m.\u001b[0m\u001b[0mcleanUp\u001b[0m\u001b[0;34m(\u001b[0m\u001b[0mexperiment\u001b[0m\u001b[0;34m)\u001b[0m\u001b[0;34m\u001b[0m\u001b[0;34m\u001b[0m\u001b[0m\n\u001b[1;32m     43\u001b[0m \u001b[0;34m\u001b[0m\u001b[0m\n",
      "\u001b[0;32m<ipython-input-41-a67219a3cc5a>\u001b[0m in \u001b[0;36mexecute\u001b[0;34m(self, procedure, database, env, subject, *args, **kwargs)\u001b[0m\n\u001b[1;32m      1\u001b[0m \u001b[0;32mclass\u001b[0m \u001b[0mExampleScientist\u001b[0m\u001b[0;34m(\u001b[0m\u001b[0mScientist\u001b[0m\u001b[0;34m)\u001b[0m\u001b[0;34m:\u001b[0m\u001b[0;34m\u001b[0m\u001b[0;34m\u001b[0m\u001b[0m\n\u001b[1;32m      2\u001b[0m     \u001b[0;32mdef\u001b[0m \u001b[0mexecute\u001b[0m\u001b[0;34m(\u001b[0m\u001b[0mself\u001b[0m\u001b[0;34m,\u001b[0m \u001b[0mprocedure\u001b[0m\u001b[0;34m,\u001b[0m \u001b[0mdatabase\u001b[0m\u001b[0;34m,\u001b[0m \u001b[0menv\u001b[0m\u001b[0;34m,\u001b[0m \u001b[0msubject\u001b[0m\u001b[0;34m,\u001b[0m \u001b[0;34m*\u001b[0m\u001b[0margs\u001b[0m\u001b[0;34m,\u001b[0m\u001b[0;34m**\u001b[0m\u001b[0mkwargs\u001b[0m\u001b[0;34m)\u001b[0m\u001b[0;34m:\u001b[0m\u001b[0;34m\u001b[0m\u001b[0;34m\u001b[0m\u001b[0m\n\u001b[0;32m----> 3\u001b[0;31m         \u001b[0mprocedure\u001b[0m\u001b[0;34m.\u001b[0m\u001b[0mrun\u001b[0m\u001b[0;34m(\u001b[0m\u001b[0menv\u001b[0m\u001b[0;34m=\u001b[0m\u001b[0menv\u001b[0m\u001b[0;34m,\u001b[0m\u001b[0msubject\u001b[0m\u001b[0;34m=\u001b[0m\u001b[0msubject\u001b[0m\u001b[0;34m,\u001b[0m\u001b[0mscientist\u001b[0m\u001b[0;34m=\u001b[0m\u001b[0mself\u001b[0m\u001b[0;34m,\u001b[0m\u001b[0mdatabase\u001b[0m\u001b[0;34m=\u001b[0m\u001b[0mdatabase\u001b[0m\u001b[0;34m,\u001b[0m \u001b[0;34m*\u001b[0m\u001b[0margs\u001b[0m\u001b[0;34m,\u001b[0m \u001b[0;34m**\u001b[0m\u001b[0mkwargs\u001b[0m\u001b[0;34m)\u001b[0m\u001b[0;34m\u001b[0m\u001b[0;34m\u001b[0m\u001b[0m\n\u001b[0m\u001b[1;32m      4\u001b[0m \u001b[0;34m\u001b[0m\u001b[0m\n\u001b[1;32m      5\u001b[0m     \u001b[0;32mdef\u001b[0m \u001b[0mrecord\u001b[0m\u001b[0;34m(\u001b[0m\u001b[0mself\u001b[0m\u001b[0;34m,\u001b[0m \u001b[0mdata\u001b[0m\u001b[0;34m,\u001b[0m \u001b[0mdatabase\u001b[0m\u001b[0;34m)\u001b[0m\u001b[0;34m:\u001b[0m\u001b[0;34m\u001b[0m\u001b[0;34m\u001b[0m\u001b[0m\n",
      "\u001b[0;32m<ipython-input-41-a67219a3cc5a>\u001b[0m in \u001b[0;36mrun\u001b[0;34m(self, env, subject, scientist, database, *args, **kwargs)\u001b[0m\n\u001b[1;32m     39\u001b[0m                 \u001b[0mdata\u001b[0m\u001b[0;34m[\u001b[0m\u001b[0;34m'rew'\u001b[0m\u001b[0;34m]\u001b[0m \u001b[0;34m=\u001b[0m \u001b[0mrew\u001b[0m\u001b[0;34m\u001b[0m\u001b[0;34m\u001b[0m\u001b[0m\n\u001b[1;32m     40\u001b[0m                 \u001b[0mdata\u001b[0m\u001b[0;34m[\u001b[0m\u001b[0;34m'done'\u001b[0m\u001b[0;34m]\u001b[0m \u001b[0;34m=\u001b[0m \u001b[0mdone\u001b[0m\u001b[0;34m\u001b[0m\u001b[0;34m\u001b[0m\u001b[0m\n\u001b[0;32m---> 41\u001b[0;31m                 \u001b[0mdate\u001b[0m\u001b[0;34m[\u001b[0m\u001b[0;34m'info'\u001b[0m\u001b[0;34m]\u001b[0m \u001b[0;34m=\u001b[0m \u001b[0minfo\u001b[0m\u001b[0;34m\u001b[0m\u001b[0;34m\u001b[0m\u001b[0m\n\u001b[0m\u001b[1;32m     42\u001b[0m         \u001b[0menv\u001b[0m\u001b[0;34m.\u001b[0m\u001b[0mclose\u001b[0m\u001b[0;34m(\u001b[0m\u001b[0;34m)\u001b[0m\u001b[0;34m\u001b[0m\u001b[0;34m\u001b[0m\u001b[0m\n\u001b[1;32m     43\u001b[0m \u001b[0;34m\u001b[0m\u001b[0m\n",
      "\u001b[0;31mNameError\u001b[0m: name 'date' is not defined"
     ]
    }
   ],
   "source": [
    "scientist.conduct(experiment,env,random_agent)"
   ]
  },
  {
   "cell_type": "code",
   "execution_count": null,
   "metadata": {},
   "outputs": [],
   "source": []
  },
  {
   "cell_type": "code",
   "execution_count": null,
   "metadata": {},
   "outputs": [],
   "source": []
  }
 ],
 "metadata": {
  "kernelspec": {
   "display_name": "Python 3",
   "language": "python",
   "name": "python3"
  },
  "language_info": {
   "codemirror_mode": {
    "name": "ipython",
    "version": 3
   },
   "file_extension": ".py",
   "mimetype": "text/x-python",
   "name": "python",
   "nbconvert_exporter": "python",
   "pygments_lexer": "ipython3",
   "version": "3.7.3"
  }
 },
 "nbformat": 4,
 "nbformat_minor": 2
}
