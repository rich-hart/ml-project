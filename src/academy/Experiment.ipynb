{
 "cells": [
  {
   "cell_type": "code",
   "execution_count": 1,
   "metadata": {},
   "outputs": [],
   "source": [
    "import gym\n",
    "from datetime import datetime"
   ]
  },
  {
   "cell_type": "code",
   "execution_count": 2,
   "metadata": {},
   "outputs": [],
   "source": [
    "env = gym.make('CartPole-v1')"
   ]
  },
  {
   "cell_type": "code",
   "execution_count": 3,
   "metadata": {},
   "outputs": [
    {
     "data": {
      "text/plain": [
       "Discrete(2)"
      ]
     },
     "execution_count": 3,
     "metadata": {},
     "output_type": "execute_result"
    }
   ],
   "source": [
    "env.action_space"
   ]
  },
  {
   "cell_type": "code",
   "execution_count": 4,
   "metadata": {},
   "outputs": [
    {
     "name": "stdout",
     "output_type": "stream",
     "text": [
      "Help on Discrete in module gym.spaces.discrete object:\n",
      "\n",
      "class Discrete(gym.spaces.space.Space)\n",
      " |  Discrete(n)\n",
      " |  \n",
      " |  A discrete space in :math:`\\{ 0, 1, \\\\dots, n-1 \\}`. \n",
      " |  \n",
      " |  Example::\n",
      " |  \n",
      " |      >>> Discrete(2)\n",
      " |  \n",
      " |  Method resolution order:\n",
      " |      Discrete\n",
      " |      gym.spaces.space.Space\n",
      " |      builtins.object\n",
      " |  \n",
      " |  Methods defined here:\n",
      " |  \n",
      " |  __eq__(self, other)\n",
      " |      Return self==value.\n",
      " |  \n",
      " |  __init__(self, n)\n",
      " |      Initialize self.  See help(type(self)) for accurate signature.\n",
      " |  \n",
      " |  __repr__(self)\n",
      " |      Return repr(self).\n",
      " |  \n",
      " |  contains(self, x)\n",
      " |      Return boolean specifying if x is a valid\n",
      " |      member of this space\n",
      " |  \n",
      " |  sample(self)\n",
      " |      Randomly sample an element of this space. Can be \n",
      " |      uniform or non-uniform sampling based on boundedness of space.\n",
      " |  \n",
      " |  ----------------------------------------------------------------------\n",
      " |  Data and other attributes defined here:\n",
      " |  \n",
      " |  __hash__ = None\n",
      " |  \n",
      " |  ----------------------------------------------------------------------\n",
      " |  Methods inherited from gym.spaces.space.Space:\n",
      " |  \n",
      " |  __contains__(self, x)\n",
      " |  \n",
      " |  from_jsonable(self, sample_n)\n",
      " |      Convert a JSONable data type to a batch of samples from this space.\n",
      " |  \n",
      " |  seed(self, seed=None)\n",
      " |      Seed the PRNG of this space.\n",
      " |  \n",
      " |  to_jsonable(self, sample_n)\n",
      " |      Convert a batch of samples from this space to a JSONable data type.\n",
      " |  \n",
      " |  ----------------------------------------------------------------------\n",
      " |  Data descriptors inherited from gym.spaces.space.Space:\n",
      " |  \n",
      " |  __dict__\n",
      " |      dictionary for instance variables (if defined)\n",
      " |  \n",
      " |  __weakref__\n",
      " |      list of weak references to the object (if defined)\n",
      "\n"
     ]
    }
   ],
   "source": [
    "help(env.action_space)"
   ]
  },
  {
   "cell_type": "code",
   "execution_count": 5,
   "metadata": {},
   "outputs": [
    {
     "data": {
      "text/plain": [
       "2"
      ]
     },
     "execution_count": 5,
     "metadata": {},
     "output_type": "execute_result"
    }
   ],
   "source": [
    "env.action_space.n"
   ]
  },
  {
   "cell_type": "code",
   "execution_count": 6,
   "metadata": {},
   "outputs": [
    {
     "data": {
      "text/plain": [
       "Box(4,)"
      ]
     },
     "execution_count": 6,
     "metadata": {},
     "output_type": "execute_result"
    }
   ],
   "source": [
    "env.observation_space"
   ]
  },
  {
   "cell_type": "code",
   "execution_count": 7,
   "metadata": {},
   "outputs": [
    {
     "name": "stdout",
     "output_type": "stream",
     "text": [
      "Help on Box in module gym.spaces.box object:\n",
      "\n",
      "class Box(gym.spaces.space.Space)\n",
      " |  Box(low, high, shape=None, dtype=<class 'numpy.float32'>)\n",
      " |  \n",
      " |  A (possibly unbounded) box in R^n. Specifically, a Box represents the\n",
      " |  Cartesian product of n closed intervals. Each interval has the form of one\n",
      " |  of [a, b], (-oo, b], [a, oo), or (-oo, oo).\n",
      " |  \n",
      " |  There are two common use cases:\n",
      " |  \n",
      " |  * Identical bound for each dimension::\n",
      " |      >>> Box(low=-1.0, high=2.0, shape=(3, 4), dtype=np.float32)\n",
      " |      Box(3, 4)\n",
      " |      \n",
      " |  * Independent bound for each dimension::\n",
      " |      >>> Box(low=np.array([-1.0, -2.0]), high=np.array([2.0, 4.0]), dtype=np.float32)\n",
      " |      Box(2,)\n",
      " |  \n",
      " |  Method resolution order:\n",
      " |      Box\n",
      " |      gym.spaces.space.Space\n",
      " |      builtins.object\n",
      " |  \n",
      " |  Methods defined here:\n",
      " |  \n",
      " |  __eq__(self, other)\n",
      " |      Return self==value.\n",
      " |  \n",
      " |  __init__(self, low, high, shape=None, dtype=<class 'numpy.float32'>)\n",
      " |      Initialize self.  See help(type(self)) for accurate signature.\n",
      " |  \n",
      " |  __repr__(self)\n",
      " |      Return repr(self).\n",
      " |  \n",
      " |  contains(self, x)\n",
      " |      Return boolean specifying if x is a valid\n",
      " |      member of this space\n",
      " |  \n",
      " |  from_jsonable(self, sample_n)\n",
      " |      Convert a JSONable data type to a batch of samples from this space.\n",
      " |  \n",
      " |  is_bounded(self, manner='both')\n",
      " |  \n",
      " |  sample(self)\n",
      " |      Generates a single random sample inside of the Box. \n",
      " |      \n",
      " |      In creating a sample of the box, each coordinate is sampled according to\n",
      " |      the form of the interval:\n",
      " |      \n",
      " |      * [a, b] : uniform distribution \n",
      " |      * [a, oo) : shifted exponential distribution\n",
      " |      * (-oo, b] : shifted negative exponential distribution\n",
      " |      * (-oo, oo) : normal distribution\n",
      " |  \n",
      " |  to_jsonable(self, sample_n)\n",
      " |      Convert a batch of samples from this space to a JSONable data type.\n",
      " |  \n",
      " |  ----------------------------------------------------------------------\n",
      " |  Data and other attributes defined here:\n",
      " |  \n",
      " |  __hash__ = None\n",
      " |  \n",
      " |  ----------------------------------------------------------------------\n",
      " |  Methods inherited from gym.spaces.space.Space:\n",
      " |  \n",
      " |  __contains__(self, x)\n",
      " |  \n",
      " |  seed(self, seed=None)\n",
      " |      Seed the PRNG of this space.\n",
      " |  \n",
      " |  ----------------------------------------------------------------------\n",
      " |  Data descriptors inherited from gym.spaces.space.Space:\n",
      " |  \n",
      " |  __dict__\n",
      " |      dictionary for instance variables (if defined)\n",
      " |  \n",
      " |  __weakref__\n",
      " |      list of weak references to the object (if defined)\n",
      "\n"
     ]
    }
   ],
   "source": [
    "help(env.observation_space)"
   ]
  },
  {
   "cell_type": "code",
   "execution_count": 8,
   "metadata": {},
   "outputs": [
    {
     "data": {
      "text/plain": [
       "(4,)"
      ]
     },
     "execution_count": 8,
     "metadata": {},
     "output_type": "execute_result"
    }
   ],
   "source": [
    "env.observation_space.shape"
   ]
  },
  {
   "cell_type": "code",
   "execution_count": 9,
   "metadata": {},
   "outputs": [
    {
     "data": {
      "text/plain": [
       "array([4.8000002e+00, 3.4028235e+38, 4.1887903e-01, 3.4028235e+38],\n",
       "      dtype=float32)"
      ]
     },
     "execution_count": 9,
     "metadata": {},
     "output_type": "execute_result"
    }
   ],
   "source": [
    "env.observation_space.high"
   ]
  },
  {
   "cell_type": "code",
   "execution_count": 10,
   "metadata": {},
   "outputs": [
    {
     "data": {
      "text/plain": [
       "array([-4.8000002e+00, -3.4028235e+38, -4.1887903e-01, -3.4028235e+38],\n",
       "      dtype=float32)"
      ]
     },
     "execution_count": 10,
     "metadata": {},
     "output_type": "execute_result"
    }
   ],
   "source": [
    "env.observation_space.low"
   ]
  },
  {
   "cell_type": "code",
   "execution_count": 11,
   "metadata": {},
   "outputs": [
    {
     "data": {
      "text/plain": [
       "1"
      ]
     },
     "execution_count": 11,
     "metadata": {},
     "output_type": "execute_result"
    }
   ],
   "source": [
    "len(env.observation_space.shape)"
   ]
  },
  {
   "cell_type": "code",
   "execution_count": 12,
   "metadata": {},
   "outputs": [],
   "source": [
    "observation_space_dimention = len(env.observation_space.shape)"
   ]
  },
  {
   "cell_type": "code",
   "execution_count": 13,
   "metadata": {},
   "outputs": [],
   "source": [
    "\n",
    "\n",
    "class Agent:\n",
    "    current_environment = None\n",
    "    current_policy = None\n",
    "    name = None\n",
    "\n",
    "    def __init__(self, name, env=None, *arg, **kwargs):\n",
    "        self.name = name\n",
    "        self.current_environment = env\n",
    "\n",
    "    @property\n",
    "    def action_space(self):\n",
    "        return self.current_environment.action_space\n",
    "    \n",
    "    @property\n",
    "    def observation_space(self):\n",
    "        return self.current_environment.observation_space\n",
    "        \n",
    "    def interact_with(self, env):\n",
    "        self.set_environment(env)\n",
    "\n",
    "    def set_environment(self, env):\n",
    "        self.current_environment = env\n",
    "\n",
    "    def set_policy(self, policy):\n",
    "        self.current_policy = policy\n",
    "    \n",
    "    def policy(self, observation):\n",
    "        # Return an action\n",
    "        action = self.current_policy(observation)\n",
    "        return action\n",
    "\n",
    "\n",
    "class Policy:\n",
    "    env = None\n",
    "    name = None\n",
    "\n",
    "    def __init__(self, env, name):\n",
    "        self.name = name\n",
    "        self.env = env\n",
    "\n",
    "    def __call__(self, observation):\n",
    "        return self.get_action(observation)\n",
    "    \n",
    "    def __eq__(self,other):\n",
    "        return (self.env == other.env) and (self.name == other.name)\n",
    "\n",
    "    @property\n",
    "    def action_space(self):\n",
    "        return self.env.action_space\n",
    "    \n",
    "    def get_action(self, observation,*args,**kwargs):\n",
    "        pass\n",
    "\n",
    "    \n",
    "class RandomPolicy(Policy):\n",
    "    seed = None\n",
    "\n",
    "    def __init__(self, env, name='random', seed=None):\n",
    "        self.env = env\n",
    "        self.name = name\n",
    "        self.seed = seed\n",
    "    \n",
    "    def get_action(self, observation):\n",
    "        random_action = self.action_space.sample()\n",
    "        return random_action \n",
    "\n",
    "class RandomAgent(Agent):\n",
    "    seed = None\n",
    "\n",
    "    def __init__(self, name='random', env=None, seed=None,*args,**kwargs):\n",
    "        self.seed = seed\n",
    "        self.name = name\n",
    "        if env:\n",
    "            self.interact_with(env)\n",
    "            self.set_policy()\n",
    "\n",
    "    def set_policy(self):\n",
    "        self.current_policy = RandomPolicy(env=self.current_environment,name=self.name,seed=self.seed)\n"
   ]
  },
  {
   "cell_type": "code",
   "execution_count": 14,
   "metadata": {},
   "outputs": [],
   "source": [
    "random_agent = RandomAgent(env=env)"
   ]
  },
  {
   "cell_type": "code",
   "execution_count": 15,
   "metadata": {},
   "outputs": [
    {
     "data": {
      "text/plain": [
       "<__main__.RandomAgent at 0x7f60fe6651d0>"
      ]
     },
     "execution_count": 15,
     "metadata": {},
     "output_type": "execute_result"
    }
   ],
   "source": [
    "random_agent"
   ]
  },
  {
   "cell_type": "code",
   "execution_count": 16,
   "metadata": {},
   "outputs": [],
   "source": [
    "random_action = random_agent.policy(env.observation_space.sample())"
   ]
  },
  {
   "cell_type": "code",
   "execution_count": 17,
   "metadata": {},
   "outputs": [
    {
     "data": {
      "text/plain": [
       "0"
      ]
     },
     "execution_count": 17,
     "metadata": {},
     "output_type": "execute_result"
    }
   ],
   "source": [
    "random_action"
   ]
  },
  {
   "cell_type": "code",
   "execution_count": 18,
   "metadata": {},
   "outputs": [],
   "source": [
    "\n",
    "\n",
    "class Database:\n",
    "    pass\n",
    "\n",
    "# Make context manager\n",
    "class Experiment:\n",
    "    description = None\n",
    "    procedure = None\n",
    "    database = None\n",
    "    start = None\n",
    "    stop = None\n",
    "    \n",
    "    _data = None\n",
    "\n",
    "    def __init__(self,desciption, procedure, database, *args,**kwargs):\n",
    "        self.desciption = desciption\n",
    "        self.procedure = procedure\n",
    "        self.database = database\n",
    "        \n",
    "        \n",
    "    def begin(self):\n",
    "        self.start = datetime.now()\n",
    "    \n",
    "    def end(self):\n",
    "        self.stop = datetime.now()\n",
    "\n",
    "class Trial:\n",
    "    pass\n",
    "\n",
    "class Language:\n",
    "    pass\n",
    "\n",
    "class Problem:\n",
    "    pass\n",
    "\n",
    "class Algorithm:\n",
    "    # _input = None\n",
    "    # _output = None\n",
    "    \n",
    "    # initialization\n",
    "    # maintainace \n",
    "    # termination\n",
    "    #@property\n",
    "    #def input(self):\n",
    "    #     pass\n",
    "    #@property\n",
    "    #def output(self):\n",
    "    #     pass\n",
    "    #def main(self):\n",
    "    #     pass\n",
    "    def solve(problem):\n",
    "        pass\n",
    "    \n",
    "class Procedure(Algorithm):\n",
    "    name = None\n",
    "    def __init__(self,*args,**kwargs):\n",
    "        pass\n",
    "\n",
    "class Conclusion:\n",
    "    pass\n",
    "\n",
    "class Hypothesis:\n",
    "    pass"
   ]
  },
  {
   "cell_type": "code",
   "execution_count": 19,
   "metadata": {},
   "outputs": [],
   "source": [
    "class Variable:\n",
    "    pass\n",
    "\n",
    "class RandomVariable:\n",
    "    pass\n",
    "\n",
    "class Observation:\n",
    "    pass\n",
    "\n",
    "class Network:\n",
    "    pass\n",
    "\n",
    "class BayesNetwork(Network):\n",
    "    pass\n",
    "\n",
    "class Knowledge(BayesNetwork):\n",
    "    pass\n",
    "\n",
    "class Engineer(Agent):\n",
    "    def create(self, *args,**kwargs):\n",
    "        # new policy?\n",
    "        pass\n",
    "\n",
    "#Procedures\n",
    "#class Material:\n",
    "#    pass\n",
    "#\n",
    "#class Tool:\n",
    "#    pass\n",
    "\n",
    "class Scientist(Agent):\n",
    "    #????\n",
    "    #def construct_hypotheses(self):\n",
    "    #    pass\n",
    "    def execute(self, procedure,*args,**kwargs):\n",
    "        pass\n",
    "    \n",
    "    def conduct(self, experiment,*args,**kwargs):\n",
    "        # execute has unknown parameters\n",
    "        self.setUp(experiment)\n",
    "        self.execute(experiment.procedure,experiment.database,*args,**kwargs)\n",
    "        self.analyze(experiment)\n",
    "        self.cleanUp(experiment)\n",
    "    \n",
    "    def record(self, data, database):\n",
    "        # persist observation and actions and revant variables, constants\n",
    "        pass\n",
    "    # Note: don't know how i field about experiment paramenter\n",
    "    def analyze(self, experiment,*args, **kwargs):\n",
    "        raise NotImplementedError() \n",
    "    \n",
    "    # draw conclusions ... ?? Generate bayesNetwork / Knowledge\n",
    "    def deduce(self):\n",
    "        pass\n",
    "    \n",
    "    def setUp(self, experiment):\n",
    "        experiment.begin()\n",
    "    \n",
    "    def cleanUp(self,experiment):\n",
    "        experiment.end()\n"
   ]
  },
  {
   "cell_type": "code",
   "execution_count": null,
   "metadata": {},
   "outputs": [],
   "source": []
  },
  {
   "cell_type": "code",
   "execution_count": 20,
   "metadata": {},
   "outputs": [],
   "source": [
    "#Experiment agent=Random, env = 'CartPole-v1', trials = 10, desciption=\"question: what effect does a random agent have on the CartPole-v1 enviroment?\""
   ]
  },
  {
   "cell_type": "code",
   "execution_count": 21,
   "metadata": {},
   "outputs": [],
   "source": [
    "# state_0 --> action_0 or action_1  --> state_1 -->> action_0 or action_1 --> ... --> state_n # or state_N"
   ]
  },
  {
   "cell_type": "code",
   "execution_count": 22,
   "metadata": {},
   "outputs": [],
   "source": [
    "scientist = Scientist('scientist')"
   ]
  },
  {
   "cell_type": "code",
   "execution_count": null,
   "metadata": {},
   "outputs": [],
   "source": []
  },
  {
   "cell_type": "code",
   "execution_count": 23,
   "metadata": {},
   "outputs": [],
   "source": [
    "class Node:\n",
    "    pass\n",
    "\n",
    "class Edge:\n",
    "    pass\n",
    "\n",
    "class Vertex(Node):\n",
    "    pass\n",
    "class Serializer: #SEE Django, Django RestFramework, neo4j\n",
    "    pass"
   ]
  },
  {
   "cell_type": "code",
   "execution_count": 24,
   "metadata": {},
   "outputs": [],
   "source": [
    "#NOTE:An algorithm is a procedure for solving a problem in terms of the actions to be executed and the order in which those actions are to be executed. An algorithm is merely the sequence of steps taken to solve a problem. The steps are normally \"sequence,\" \"selection, \" \"iteration,\" and a case-type statement.\n",
    "\n",
    "\n",
    "#NOTE: In C, \"sequence statements\" are imperatives. The \"selection\" is the \"if then else\" statement, and the iteration is satisfied by a number of statements, such as the \"while,\" \" do,\" and the \"for,\" while the case-type statement is satisfied by the \"switch\" statement."
   ]
  },
  {
   "cell_type": "code",
   "execution_count": 25,
   "metadata": {},
   "outputs": [],
   "source": [
    "####\n",
    "####\n",
    "# NOTE: Example Experment (Temp class definitions until I think of better ones).\n",
    "####\n",
    "####"
   ]
  },
  {
   "cell_type": "code",
   "execution_count": 26,
   "metadata": {},
   "outputs": [],
   "source": [
    "import pandas as pd\n",
    "\n",
    "class ExampleScientist(Scientist):\n",
    "    def execute(self, procedure, database, env, subject, *args,**kwargs):\n",
    "        procedure.run(env=env,subject=subject,scientist=self,database=database, *args, **kwargs)\n",
    "    \n",
    "    def record(self, data, database,*tables):\n",
    "        database.insert(data,*tables)\n",
    "    \n",
    "    def analyze(self, experiment):\n",
    "        import ipdb; ipdb.set_trace()\n",
    "        conn = experiment.database.conn\n",
    "        c = conn.cursor()\n",
    "    \n",
    "        c.execute(\"select * from observations\")\n",
    "        observations = c.fetchall()\n",
    "        \n",
    "        for obs in observations:\n",
    "            trial, x, x_dot, phi, phi_dot, n = obs\n",
    "            \n",
    "        c.execute(\"select * from actions\")\n",
    "        actions = c.fetchall()\n",
    "\n",
    "        c.execute(\"select * from trials\")\n",
    "        trials = c.fetchall()\n",
    "        \n",
    "        conn.close()\n",
    "        \n",
    "class ExampleProcedure(Procedure):\n",
    "    def __init__(self, name, trials=10, steps=1000,*args,**kwargs):\n",
    "        self.name = name\n",
    "        self.trials = trials\n",
    "        self.steps = steps\n",
    "\n",
    "    \n",
    "    def run(self, env, subject, scientist, database, *args,**kwargs):\n",
    "        data = {\n",
    "            'trial':None,\n",
    "            'obs':None,\n",
    "            'action':None,\n",
    "            'agent': None,\n",
    "            'step':None,\n",
    "            'rew':None,\n",
    "            'done':None,\n",
    "            'info':None,\n",
    "        }\n",
    "        \n",
    "        for trial in range(1,self.trials+1):\n",
    "            data['trial'] = trial\n",
    "            scientist.record(data,database,'trials')\n",
    "            obs = env.reset()\n",
    "            action = None\n",
    "            for step in range(self.steps):\n",
    "                data['obs'] = obs\n",
    "                data['agent'] = subject.name\n",
    "                data['action'] = action\n",
    "                data['step'] = step\n",
    "                scientist.record(data,database,'observations','actions')\n",
    "                action = subject.policy(obs)\n",
    "                obs, rew, done, info = env.step(action)\n",
    "                data['rew'] = rew\n",
    "                data['done'] = done\n",
    "                data['info'] = info\n",
    "                if done:\n",
    "                    break\n",
    "        env.close()\n",
    "        \n",
    "#import gym\n",
    "#env = gym.make('CartPole-v0')\n",
    "#env.reset()\n",
    "#for _ in range(1000):\n",
    "#    env.render()\n",
    "#    env.step(env.action_space.sample()) # take a random action\n",
    "#env.close()\n",
    "class ExampleExperiment(Experiment):\n",
    "    pass"
   ]
  },
  {
   "cell_type": "code",
   "execution_count": 27,
   "metadata": {},
   "outputs": [],
   "source": [
    "import sqlite3\n",
    "class ExampleDatabase(Database):\n",
    "    db_filename = None\n",
    "    _conn = None\n",
    "    def __init__(self, db_filename):\n",
    "        self.db_filename = db_filename\n",
    "        conn = sqlite3.connect(db_filename)\n",
    "        c = conn.cursor()\n",
    "        # trial has many observations\n",
    "        # trial has many actions\n",
    "        c.execute('''CREATE TABLE trials (number integer)''')\n",
    "        c.execute('''CREATE TABLE observations (trial_id integer, cart_position real, cart_velocity real, pole_angle real, pole_velocity_at_tip real, step integer, FOREIGN KEY (trial_id) REFERENCES trials(number))''')\n",
    "        c.execute('''CREATE TABLE actions (trial_id integer, agent text,action integer, step integer, FOREIGN KEY (trial_id) REFERENCES trials(number))''')\n",
    "        # create tables for other data....\n",
    "        conn.close()\n",
    "        \n",
    "    def insert(self,data, *tables):\n",
    "        conn = sqlite3.connect(self.db_filename)\n",
    "        c = conn.cursor()\n",
    "        \n",
    "        if 'trials' in tables:\n",
    "            command = \"INSERT INTO trials VALUES (?)\"\n",
    "            values = (data['trial'],)\n",
    "            c.execute(command, values)\n",
    "            \n",
    "        if 'observations' in tables:\n",
    "            command = \"INSERT INTO observations VALUES (?, ?, ?, ?, ?, ?)\"\n",
    "            values = (\n",
    "                data['trial'],\n",
    "                data['obs'][0],\n",
    "                data['obs'][1],\n",
    "                data['obs'][2],\n",
    "                data['obs'][3],\n",
    "                data['step'],\n",
    "            )\n",
    "            c.execute(command, values)\n",
    "            \n",
    "        if 'actions' in tables:\n",
    "            command = \"INSERT INTO actions VALUES (?, ?, ?, ?)\"\n",
    "            values = (data['trial'], data['agent'], data['action'],data['step'])\n",
    "            c.execute(command,values)\n",
    "        conn.commit()\n",
    "        conn.close()\n",
    "\n",
    "    @property\n",
    "    def conn(self):\n",
    "        if not self._conn:\n",
    "            self._conn = sqlite3.connect(self.db_filename)\n",
    "        return self._conn\n",
    "    "
   ]
  },
  {
   "cell_type": "code",
   "execution_count": 28,
   "metadata": {},
   "outputs": [],
   "source": [
    "env.close()"
   ]
  },
  {
   "cell_type": "code",
   "execution_count": null,
   "metadata": {},
   "outputs": [],
   "source": []
  },
  {
   "cell_type": "code",
   "execution_count": 29,
   "metadata": {
    "scrolled": true
   },
   "outputs": [],
   "source": [
    "database = ExampleDatabase('example.db')"
   ]
  },
  {
   "cell_type": "code",
   "execution_count": 30,
   "metadata": {},
   "outputs": [],
   "source": [
    "procedure = ExampleProcedure('example')\n",
    "desciption = \"question: what effect does a random agent have on the CartPole-v1 enviroment?\" \\\n",
    "\"We what to show that given env and random agent, 1) observation does not imply random agent action \" \\\n",
    "\"2) random agent action implies observation\"\n",
    "experiment = ExampleExperiment(desciption=desciption,procedure=procedure,database=database)\n",
    "env = gym.make('CartPole-v1')\n",
    "random_agent = RandomAgent(env=env, name='random_agent')\n",
    "scientist = ExampleScientist('example')"
   ]
  },
  {
   "cell_type": "code",
   "execution_count": 31,
   "metadata": {
    "scrolled": false
   },
   "outputs": [
    {
     "name": "stdout",
     "output_type": "stream",
     "text": [
      "> \u001b[0;32m<ipython-input-26-f6256d54aa99>\u001b[0m(12)\u001b[0;36manalyze\u001b[0;34m()\u001b[0m\n",
      "\u001b[0;32m     11 \u001b[0;31m        \u001b[0;32mimport\u001b[0m \u001b[0mipdb\u001b[0m\u001b[0;34m;\u001b[0m \u001b[0mipdb\u001b[0m\u001b[0;34m.\u001b[0m\u001b[0mset_trace\u001b[0m\u001b[0;34m(\u001b[0m\u001b[0;34m)\u001b[0m\u001b[0;34m\u001b[0m\u001b[0;34m\u001b[0m\u001b[0m\n",
      "\u001b[0m\u001b[0;32m---> 12 \u001b[0;31m        \u001b[0mconn\u001b[0m \u001b[0;34m=\u001b[0m \u001b[0mexperiment\u001b[0m\u001b[0;34m.\u001b[0m\u001b[0mdatabase\u001b[0m\u001b[0;34m.\u001b[0m\u001b[0mconn\u001b[0m\u001b[0;34m\u001b[0m\u001b[0;34m\u001b[0m\u001b[0m\n",
      "\u001b[0m\u001b[0;32m     13 \u001b[0;31m        \u001b[0mc\u001b[0m \u001b[0;34m=\u001b[0m \u001b[0mconn\u001b[0m\u001b[0;34m.\u001b[0m\u001b[0mcursor\u001b[0m\u001b[0;34m(\u001b[0m\u001b[0;34m)\u001b[0m\u001b[0;34m\u001b[0m\u001b[0;34m\u001b[0m\u001b[0m\n",
      "\u001b[0m\n",
      "ipdb> r\n",
      "--Return--\n",
      "None\n",
      "> \u001b[0;32m<ipython-input-26-f6256d54aa99>\u001b[0m(24)\u001b[0;36manalyze\u001b[0;34m()\u001b[0m\n",
      "\u001b[0;32m     23 \u001b[0;31m\u001b[0;34m\u001b[0m\u001b[0m\n",
      "\u001b[0m\u001b[0;32m---> 24 \u001b[0;31m        \u001b[0mconn\u001b[0m\u001b[0;34m.\u001b[0m\u001b[0mclose\u001b[0m\u001b[0;34m(\u001b[0m\u001b[0;34m)\u001b[0m\u001b[0;34m\u001b[0m\u001b[0;34m\u001b[0m\u001b[0m\n",
      "\u001b[0m\u001b[0;32m     25 \u001b[0;31m\u001b[0;34m\u001b[0m\u001b[0m\n",
      "\u001b[0m\n",
      "ipdb> trials\n",
      "[(1,), (2,), (3,), (4,), (5,), (6,), (7,), (8,), (9,), (10,)]\n",
      "ipdb> pd\n",
      "<module 'pandas' from '/opt/conda/lib/python3.7/site-packages/pandas/__init__.py'>\n",
      "ipdb> c.description\n"
     ]
    }
   ],
   "source": [
    "scientist.conduct(experiment,env,random_agent)"
   ]
  },
  {
   "cell_type": "code",
   "execution_count": 32,
   "metadata": {},
   "outputs": [
    {
     "data": {
      "text/plain": [
       "['DataError',\n",
       " 'DatabaseError',\n",
       " 'Error',\n",
       " 'IntegrityError',\n",
       " 'InterfaceError',\n",
       " 'InternalError',\n",
       " 'NotSupportedError',\n",
       " 'OperationalError',\n",
       " 'ProgrammingError',\n",
       " 'Warning',\n",
       " '__call__',\n",
       " '__class__',\n",
       " '__delattr__',\n",
       " '__dir__',\n",
       " '__doc__',\n",
       " '__enter__',\n",
       " '__eq__',\n",
       " '__exit__',\n",
       " '__format__',\n",
       " '__ge__',\n",
       " '__getattribute__',\n",
       " '__gt__',\n",
       " '__hash__',\n",
       " '__init__',\n",
       " '__init_subclass__',\n",
       " '__le__',\n",
       " '__lt__',\n",
       " '__ne__',\n",
       " '__new__',\n",
       " '__reduce__',\n",
       " '__reduce_ex__',\n",
       " '__repr__',\n",
       " '__setattr__',\n",
       " '__sizeof__',\n",
       " '__str__',\n",
       " '__subclasshook__',\n",
       " 'backup',\n",
       " 'close',\n",
       " 'commit',\n",
       " 'create_aggregate',\n",
       " 'create_collation',\n",
       " 'create_function',\n",
       " 'cursor',\n",
       " 'enable_load_extension',\n",
       " 'execute',\n",
       " 'executemany',\n",
       " 'executescript',\n",
       " 'in_transaction',\n",
       " 'interrupt',\n",
       " 'isolation_level',\n",
       " 'iterdump',\n",
       " 'load_extension',\n",
       " 'rollback',\n",
       " 'row_factory',\n",
       " 'set_authorizer',\n",
       " 'set_progress_handler',\n",
       " 'set_trace_callback',\n",
       " 'text_factory',\n",
       " 'total_changes']"
      ]
     },
     "execution_count": 32,
     "metadata": {},
     "output_type": "execute_result"
    }
   ],
   "source": [
    "dir(database._conn)"
   ]
  },
  {
   "cell_type": "markdown",
   "metadata": {},
   "source": [
    "$ Trials = \\{i |i \\in \\mathbb{N}\\text{ and } i \\leq 10  \\}$\n",
    "\n",
    "\n",
    "$ AgentActionSpace = \\{0, 1\\}$\n",
    "\n",
    "$ ActionSpace = AgentActionSpace \\cup \\{None\\}$\n",
    "\n",
    "$ Observations = \\{(trial,x, \\dot{x}, \\phi, \\dot{\\phi},step) | trial \\in Trials, step \\in \\mathbb{N} \\text{ DEFINE  OTHER CONSTRAINTS}\\}$\n",
    "\n",
    "$ Actions = \\{(trial,agent, action, step) |trial \\in Trials, step \\in \\mathbb{N} \\text{ DEFINE OTHER CONSTRAINTS }\\}$\n",
    "\n",
    "$s_{n} \\equiv  $ the state of the system at step n"
   ]
  },
  {
   "cell_type": "markdown",
   "metadata": {},
   "source": [
    "$s_{n}$ is directly related to $x(t)$ "
   ]
  },
  {
   "cell_type": "code",
   "execution_count": null,
   "metadata": {},
   "outputs": [
    {
     "name": "stdout",
     "output_type": "stream",
     "text": [
      "> \u001b[0;32m<ipython-input-26-f6256d54aa99>\u001b[0m(12)\u001b[0;36manalyze\u001b[0;34m()\u001b[0m\n",
      "\u001b[0;32m     11 \u001b[0;31m        \u001b[0;32mimport\u001b[0m \u001b[0mipdb\u001b[0m\u001b[0;34m;\u001b[0m \u001b[0mipdb\u001b[0m\u001b[0;34m.\u001b[0m\u001b[0mset_trace\u001b[0m\u001b[0;34m(\u001b[0m\u001b[0;34m)\u001b[0m\u001b[0;34m\u001b[0m\u001b[0;34m\u001b[0m\u001b[0m\n",
      "\u001b[0m\u001b[0;32m---> 12 \u001b[0;31m        \u001b[0mconn\u001b[0m \u001b[0;34m=\u001b[0m \u001b[0mexperiment\u001b[0m\u001b[0;34m.\u001b[0m\u001b[0mdatabase\u001b[0m\u001b[0;34m.\u001b[0m\u001b[0mconn\u001b[0m\u001b[0;34m\u001b[0m\u001b[0;34m\u001b[0m\u001b[0m\n",
      "\u001b[0m\u001b[0;32m     13 \u001b[0;31m        \u001b[0mc\u001b[0m \u001b[0;34m=\u001b[0m \u001b[0mconn\u001b[0m\u001b[0;34m.\u001b[0m\u001b[0mcursor\u001b[0m\u001b[0;34m(\u001b[0m\u001b[0;34m)\u001b[0m\u001b[0;34m\u001b[0m\u001b[0;34m\u001b[0m\u001b[0m\n",
      "\u001b[0m\n",
      "ipdb> n\n",
      "> \u001b[0;32m<ipython-input-26-f6256d54aa99>\u001b[0m(13)\u001b[0;36manalyze\u001b[0;34m()\u001b[0m\n",
      "\u001b[0;32m     12 \u001b[0;31m        \u001b[0mconn\u001b[0m \u001b[0;34m=\u001b[0m \u001b[0mexperiment\u001b[0m\u001b[0;34m.\u001b[0m\u001b[0mdatabase\u001b[0m\u001b[0;34m.\u001b[0m\u001b[0mconn\u001b[0m\u001b[0;34m\u001b[0m\u001b[0;34m\u001b[0m\u001b[0m\n",
      "\u001b[0m\u001b[0;32m---> 13 \u001b[0;31m        \u001b[0mc\u001b[0m \u001b[0;34m=\u001b[0m \u001b[0mconn\u001b[0m\u001b[0;34m.\u001b[0m\u001b[0mcursor\u001b[0m\u001b[0;34m(\u001b[0m\u001b[0;34m)\u001b[0m\u001b[0;34m\u001b[0m\u001b[0;34m\u001b[0m\u001b[0m\n",
      "\u001b[0m\u001b[0;32m     14 \u001b[0;31m\u001b[0;34m\u001b[0m\u001b[0m\n",
      "\u001b[0m\n",
      "ipdb> cursor = conn.cursor()\n",
      "ipdb> cursor.description\n",
      "ipdb> r\\\n",
      "--Return--\n",
      "None\n",
      "> \u001b[0;32m<ipython-input-26-f6256d54aa99>\u001b[0m(24)\u001b[0;36manalyze\u001b[0;34m()\u001b[0m\n",
      "\u001b[0;32m     23 \u001b[0;31m\u001b[0;34m\u001b[0m\u001b[0m\n",
      "\u001b[0m\u001b[0;32m---> 24 \u001b[0;31m        \u001b[0mconn\u001b[0m\u001b[0;34m.\u001b[0m\u001b[0mclose\u001b[0m\u001b[0;34m(\u001b[0m\u001b[0;34m)\u001b[0m\u001b[0;34m\u001b[0m\u001b[0;34m\u001b[0m\u001b[0m\n",
      "\u001b[0m\u001b[0;32m     25 \u001b[0;31m\u001b[0;34m\u001b[0m\u001b[0m\n",
      "\u001b[0m\n",
      "ipdb> observation = observations[0]\n",
      "ipdb> observation\n",
      "(1, 0.0010211123372165579, -0.0330540891822947, 0.03062355705947148, 0.020959443067928782, 0)\n",
      "ipdb> obs = observation\n",
      "ipdb> trial, x, x_dot, phi, phi_dot, n = obs\n",
      "ipdb> pd.DataFrame({'trial':trial})\n",
      "*** ValueError: If using all scalar values, you must pass an index\n",
      "ipdb> pd.DataFrame({'trial':trial,'x':x})\n",
      "*** ValueError: If using all scalar values, you must pass an index\n",
      "ipdb> {'trial':trial,'x':x}\n",
      "{'trial': 1, 'x': 0.0010211123372165579}\n",
      "ipdb> pd.DataFrame([{'trial':trial,'x':x}])\n",
      "   trial         x\n",
      "0      1  0.001021\n",
      "ipdb> dir(cursor)\n",
      "['__class__', '__delattr__', '__dir__', '__doc__', '__eq__', '__format__', '__ge__', '__getattribute__', '__gt__', '__hash__', '__init__', '__init_subclass__', '__iter__', '__le__', '__lt__', '__ne__', '__new__', '__next__', '__reduce__', '__reduce_ex__', '__repr__', '__setattr__', '__sizeof__', '__str__', '__subclasshook__', 'arraysize', 'close', 'connection', 'description', 'execute', 'executemany', 'executescript', 'fetchall', 'fetchmany', 'fetchone', 'lastrowid', 'row_factory', 'rowcount', 'setinputsizes', 'setoutputsize']\n",
      "ipdb> cursor.desciption\n",
      "*** AttributeError: 'sqlite3.Cursor' object has no attribute 'desciption'\n",
      "ipdb> cursor.description\n",
      "ipdb> cursor = conn.cursor()\n",
      "*** sqlite3.ProgrammingError: Cannot operate on a closed database.\n"
     ]
    }
   ],
   "source": [
    "experiment.database._conn = sqlite3.connect('example.db')\n",
    "scientist.analyze(experiment)"
   ]
  },
  {
   "cell_type": "code",
   "execution_count": null,
   "metadata": {},
   "outputs": [],
   "source": []
  }
 ],
 "metadata": {
  "kernelspec": {
   "display_name": "Python 3",
   "language": "python",
   "name": "python3"
  },
  "language_info": {
   "codemirror_mode": {
    "name": "ipython",
    "version": 3
   },
   "file_extension": ".py",
   "mimetype": "text/x-python",
   "name": "python",
   "nbconvert_exporter": "python",
   "pygments_lexer": "ipython3",
   "version": "3.7.3"
  }
 },
 "nbformat": 4,
 "nbformat_minor": 2
}
